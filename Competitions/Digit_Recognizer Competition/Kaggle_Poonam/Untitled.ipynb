{
 "cells": [
  {
   "cell_type": "code",
   "execution_count": 175,
   "metadata": {},
   "outputs": [],
   "source": [
    "import pandas as pd\n",
    "import numpy as np\n",
    "import seaborn as sns\n",
    "import matplotlib.pyplot as plt \n",
    "\n",
    "from keras.models import Sequential\n",
    "from keras.layers import Lambda, Flatten, Dense, Dropout\n",
    "from keras.optimizers import Adam, RMSprop\n",
    "from keras import backend as K\n",
    "from keras.preprocessing.image import ImageDataGenerator\n",
    "\n",
    "from sklearn.model_selection import train_test_split"
   ]
  },
  {
   "cell_type": "code",
   "execution_count": 176,
   "metadata": {},
   "outputs": [],
   "source": [
    "#train = pd.read_csv('train.csv')\n",
    "#test = pd.read_csv('test.csv')\n",
    "#raw_train = train.copy()\n",
    "#raw_test = test.copy()\n",
    "x_train = raw_train.drop('label',axis=1)\n",
    "y_train = raw_train['label']\n",
    "test = raw_test"
   ]
  },
  {
   "cell_type": "code",
   "execution_count": 177,
   "metadata": {},
   "outputs": [],
   "source": [
    "x_train = train.drop('label',axis=1).values.astype('float32')\n",
    "y_train = train['label'].values.astype('int32')\n",
    "test = test.values.astype('float32')"
   ]
  },
  {
   "cell_type": "code",
   "execution_count": 178,
   "metadata": {},
   "outputs": [],
   "source": [
    "x_train = x_train.reshape((-1,28,28,1))"
   ]
  },
  {
   "cell_type": "code",
   "execution_count": 179,
   "metadata": {},
   "outputs": [],
   "source": [
    "test = test.reshape((-1,28,28,1))"
   ]
  },
  {
   "cell_type": "code",
   "execution_count": 180,
   "metadata": {},
   "outputs": [],
   "source": [
    "px_mean = x_train.mean()\n",
    "px_std = x_train.std()\n",
    "\n",
    "def Standardization(x):\n",
    "    return (x-px_mean) / px_std"
   ]
  },
  {
   "cell_type": "code",
   "execution_count": 181,
   "metadata": {},
   "outputs": [],
   "source": [
    "from keras.utils.np_utils import to_categorical\n",
    "y_train = to_categorical(y_train)"
   ]
  },
  {
   "cell_type": "code",
   "execution_count": 182,
   "metadata": {},
   "outputs": [
    {
     "data": {
      "text/plain": [
       "(42000, 10)"
      ]
     },
     "execution_count": 182,
     "metadata": {},
     "output_type": "execute_result"
    }
   ],
   "source": [
    "y_train.shape"
   ]
  },
  {
   "cell_type": "code",
   "execution_count": 183,
   "metadata": {},
   "outputs": [],
   "source": [
    "np.random.seed(43)"
   ]
  },
  {
   "cell_type": "code",
   "execution_count": 184,
   "metadata": {},
   "outputs": [],
   "source": [
    "from keras.models import Sequential\n",
    "from keras.layers import Lambda, Flatten, Dense, Dropout, BatchNormalization, Convolution2D, MaxPooling2D\n",
    "from keras.callbacks import EarlyStopping"
   ]
  },
  {
   "cell_type": "code",
   "execution_count": 185,
   "metadata": {},
   "outputs": [
    {
     "data": {
      "text/plain": [
       "((None, 28, 28, 1), (None, 10))"
      ]
     },
     "execution_count": 185,
     "metadata": {},
     "output_type": "execute_result"
    }
   ],
   "source": [
    "model = Sequential()\n",
    "model.add(Lambda(Standardization,input_shape=(28,28,1)))\n",
    "model.add(Flatten())\n",
    "model.add(Dense(10,activation='softmax'))\n",
    "model.input_shape, model.output_shape"
   ]
  },
  {
   "cell_type": "code",
   "execution_count": 186,
   "metadata": {},
   "outputs": [],
   "source": [
    "model.compile(optimizer=RMSprop(),loss='categorical_crossentropy',metrics=['accuracy'])"
   ]
  },
  {
   "cell_type": "code",
   "execution_count": 188,
   "metadata": {},
   "outputs": [],
   "source": [
    "generator = ImageDataGenerator()"
   ]
  },
  {
   "cell_type": "code",
   "execution_count": 189,
   "metadata": {},
   "outputs": [],
   "source": [
    "x = x_train\n",
    "y = y_train\n",
    "x_train, x_val, y_train, y_val = train_test_split(x_train, y_train, test_size=0.10, random_state=42)\n",
    "batches = generator.flow(x_train, y_train, batch_size=64)\n",
    "val_batches=generator.flow(x_val, y_val, batch_size=64)"
   ]
  },
  {
   "cell_type": "code",
   "execution_count": 150,
   "metadata": {},
   "outputs": [
    {
     "name": "stdout",
     "output_type": "stream",
     "text": [
      "Epoch 1/3\n",
      "590/590 [==============================] - 2s 3ms/step - loss: 0.2595 - accuracy: 0.9279 - val_loss: 0.3011 - val_accuracy: 0.9149\n",
      "Epoch 2/3\n",
      "590/590 [==============================] - 1s 2ms/step - loss: 0.2569 - accuracy: 0.9287 - val_loss: 0.3021 - val_accuracy: 0.9135\n",
      "Epoch 3/3\n",
      "590/590 [==============================] - 2s 3ms/step - loss: 0.2550 - accuracy: 0.9291 - val_loss: 0.2965 - val_accuracy: 0.9178\n"
     ]
    }
   ],
   "source": [
    "history=model.fit_generator(generator=batches,\n",
    "                            steps_per_epoch=batches.n // 64,\n",
    "                            epochs=3, \n",
    "                            validation_data=val_batches, \n",
    "                            validation_steps=val_batches.n // 64)"
   ]
  },
  {
   "cell_type": "code",
   "execution_count": 151,
   "metadata": {},
   "outputs": [],
   "source": [
    "history_dict = history.history"
   ]
  },
  {
   "cell_type": "code",
   "execution_count": 152,
   "metadata": {},
   "outputs": [
    {
     "data": {
      "text/plain": [
       "{'loss': [0.25949588418006897, 0.256940633058548, 0.2549961507320404],\n",
       " 'accuracy': [0.9278672933578491, 0.9286623001098633, 0.9291127920150757],\n",
       " 'val_loss': [0.3011103868484497, 0.30207768082618713, 0.2964656949043274],\n",
       " 'val_accuracy': [0.9149038195610046, 0.9134615659713745, 0.9177884459495544]}"
      ]
     },
     "execution_count": 152,
     "metadata": {},
     "output_type": "execute_result"
    }
   ],
   "source": [
    "history_dict"
   ]
  },
  {
   "cell_type": "code",
   "execution_count": 153,
   "metadata": {},
   "outputs": [
    {
     "data": {
      "text/plain": [
       "Text(0, 0.5, 'Accuracy')"
      ]
     },
     "execution_count": 153,
     "metadata": {},
     "output_type": "execute_result"
    },
    {
     "data": {
      "image/png": "[encoded data removed]",
      "text/plain": [
       "<Figure size 432x288 with 1 Axes>"
      ]
     },
     "metadata": {
      "needs_background": "light"
     },
     "output_type": "display_data"
    }
   ],
   "source": [
    "plt.plot(range(1,4),history_dict['accuracy'],'bo')\n",
    "plt.plot(range(1,4),history_dict['val_accuracy'],'b+')\n",
    "plt.xlabel('Epoch')\n",
    "plt.ylabel('Accuracy')"
   ]
  },
  {
   "cell_type": "code",
   "execution_count": 154,
   "metadata": {},
   "outputs": [],
   "source": [
    "def get_fullyConnected_model():\n",
    "    model = Sequential([\n",
    "        Lambda(Standardization,input_shape=(28,28,1)),\n",
    "        Flatten(),\n",
    "        Dense(512,activation='relu'),\n",
    "        Dense(10,activation='softmax'),\n",
    "    ])\n",
    "    model.compile(optimizer='Adam',loss='categorical_crossentropy',metrics=['accuracy'])\n",
    "    return model"
   ]
  },
  {
   "cell_type": "code",
   "execution_count": 155,
   "metadata": {},
   "outputs": [],
   "source": [
    "fc_model = get_fullyConnected_model()\n",
    "fc_model.optimizer.lr = 0.01"
   ]
  },
  {
   "cell_type": "code",
   "execution_count": 156,
   "metadata": {},
   "outputs": [
    {
     "name": "stdout",
     "output_type": "stream",
     "text": [
      "Epoch 1/3\n",
      "590/590 [==============================] - 4s 6ms/step - loss: 0.8919 - accuracy: 0.8508 - val_loss: 0.2768 - val_accuracy: 0.9214\n",
      "Epoch 2/3\n",
      "590/590 [==============================] - 3s 5ms/step - loss: 0.2007 - accuracy: 0.9428 - val_loss: 0.2608 - val_accuracy: 0.9325\n",
      "Epoch 3/3\n",
      "590/590 [==============================] - 3s 5ms/step - loss: 0.1714 - accuracy: 0.9536 - val_loss: 0.2397 - val_accuracy: 0.9397\n"
     ]
    }
   ],
   "source": [
    "history = fc_model.fit_generator(generator=batches,\n",
    "                                steps_per_epoch=batches.n // batches.batch_size,\n",
    "                                epochs=3,\n",
    "                                validation_data=val_batches,\n",
    "                                validation_steps=val_batches.n // val_batches.batch_size)"
   ]
  },
  {
   "cell_type": "code",
   "execution_count": 157,
   "metadata": {},
   "outputs": [],
   "source": [
    "def get_CNN_model():\n",
    "    model = Sequential([\n",
    "        Lambda(Standardization,input_shape=(28,28,1)),\n",
    "        Convolution2D(32,(3,3),activation='relu'),\n",
    "        Convolution2D(32,(3,3),activation='relu'),\n",
    "        MaxPooling2D(),\n",
    "        Convolution2D(64,(3,3),activation='relu'),\n",
    "        Convolution2D(64,(3,3),activation='relu'),\n",
    "        MaxPooling2D(),\n",
    "        Flatten(),\n",
    "        Dense(512,activation='relu'),\n",
    "        Dense(10,activation='softmax')\n",
    "    ])\n",
    "    \n",
    "    model.compile(optimizer='Adam',loss='categorical_crossentropy',metrics=['accuracy'])\n",
    "    return model"
   ]
  },
  {
   "cell_type": "code",
   "execution_count": 158,
   "metadata": {},
   "outputs": [],
   "source": [
    "CNN_model = get_CNN_model()\n",
    "CNN_model.optimizer.lr=0.01"
   ]
  },
  {
   "cell_type": "code",
   "execution_count": 160,
   "metadata": {
    "scrolled": true
   },
   "outputs": [
    {
     "name": "stdout",
     "output_type": "stream",
     "text": [
      "591/591 [==============================] - 58s 99ms/step - loss: 0.1066 - accuracy: 0.9676 - val_loss: 0.1092 - val_accuracy: 0.9676\n"
     ]
    }
   ],
   "source": [
    "history = CNN_model.fit_generator(generator=batches,\n",
    "                                 #steps_per_epoch=\n",
    "                                 epochs=1,\n",
    "                                 validation_data=val_batches)"
   ]
  },
  {
   "cell_type": "code",
   "execution_count": 161,
   "metadata": {},
   "outputs": [],
   "source": [
    "generator2 =ImageDataGenerator(rotation_range=8, width_shift_range=0.08, shear_range=0.3,\n",
    "                               height_shift_range=0.08, zoom_range=0.08)\n",
    "batches2 = generator2.flow(x_train, y_train, batch_size=64)\n",
    "val_batches2 = generator2.flow(x_val, y_val, batch_size=64)"
   ]
  },
  {
   "cell_type": "code",
   "execution_count": 164,
   "metadata": {},
   "outputs": [
    {
     "name": "stderr",
     "output_type": "stream",
     "text": [
      "C:\\Users\\admin\\anaconda3\\lib\\site-packages\\tensorflow\\python\\keras\\engine\\training.py:1844: UserWarning: `Model.fit_generator` is deprecated and will be removed in a future version. Please use `Model.fit`, which supports generators.\n",
      "  warnings.warn('`Model.fit_generator` is deprecated and '\n"
     ]
    },
    {
     "name": "stdout",
     "output_type": "stream",
     "text": [
      "591/591 [==============================] - 61s 104ms/step - loss: 0.1679 - accuracy: 0.9472 - val_loss: 0.1326 - val_accuracy: 0.9590\n"
     ]
    }
   ],
   "source": [
    "CNN_model.optimizer.lr = 0.001\n",
    "history = CNN_model.fit_generator(generator=batches2,\n",
    "                                 validation_data=val_batches2,\n",
    "                                 epochs=1)"
   ]
  },
  {
   "cell_type": "code",
   "execution_count": 165,
   "metadata": {},
   "outputs": [],
   "source": [
    "from keras.layers.normalization import BatchNormalization"
   ]
  },
  {
   "cell_type": "code",
   "execution_count": 190,
   "metadata": {},
   "outputs": [],
   "source": [
    "def get_bn_model():\n",
    "    model = Sequential([\n",
    "        Lambda(Standardization, input_shape=(28,28,1)),\n",
    "        Convolution2D(32,(3,3), activation='relu'),\n",
    "        BatchNormalization(axis=1),\n",
    "        Convolution2D(32,(3,3), activation='relu'),\n",
    "        MaxPooling2D(),\n",
    "        BatchNormalization(axis=1),\n",
    "        Convolution2D(64,(3,3), activation='relu'),\n",
    "        BatchNormalization(axis=1),\n",
    "        Convolution2D(64,(3,3), activation='relu'),\n",
    "        MaxPooling2D(),\n",
    "        Flatten(),\n",
    "        BatchNormalization(),\n",
    "        Dense(512, activation='relu'),\n",
    "        BatchNormalization(),\n",
    "        Dense(10, activation='softmax')\n",
    "    ])\n",
    "    \n",
    "    model.compile(optimizer='Adam',loss='categorical_crossentropy',\n",
    "                 metrics=['accuracy'])\n",
    "    return model"
   ]
  },
  {
   "cell_type": "code",
   "execution_count": 197,
   "metadata": {},
   "outputs": [],
   "source": [
    "bn_model = get_bn_model()\n",
    "bn_model.optimizer.lr = 0.01\n",
    "#history = bn_model.fit_generator(generator=batches2,\n",
    "#                                validation_data=val_batches2)"
   ]
  },
  {
   "cell_type": "code",
   "execution_count": 198,
   "metadata": {
    "scrolled": true
   },
   "outputs": [
    {
     "name": "stderr",
     "output_type": "stream",
     "text": [
      "C:\\Users\\admin\\anaconda3\\lib\\site-packages\\tensorflow\\python\\keras\\engine\\training.py:1844: UserWarning: `Model.fit_generator` is deprecated and will be removed in a future version. Please use `Model.fit`, which supports generators.\n",
      "  warnings.warn('`Model.fit_generator` is deprecated and '\n"
     ]
    },
    {
     "name": "stdout",
     "output_type": "stream",
     "text": [
      "Epoch 1/40\n",
      "657/657 [==============================] - 123s 185ms/step - loss: 0.2924 - accuracy: 0.9229\n",
      "Epoch 2/40\n",
      "657/657 [==============================] - 123s 187ms/step - loss: 0.0578 - accuracy: 0.9826\n",
      "Epoch 3/40\n",
      "657/657 [==============================] - 112s 170ms/step - loss: 0.0468 - accuracy: 0.9857\n",
      "Epoch 4/40\n",
      "657/657 [==============================] - 113s 171ms/step - loss: 0.0377 - accuracy: 0.9888\n",
      "Epoch 5/40\n",
      "657/657 [==============================] - 111s 169ms/step - loss: 0.0408 - accuracy: 0.9882\n",
      "Epoch 6/40\n",
      "657/657 [==============================] - 114s 173ms/step - loss: 0.0321 - accuracy: 0.9902\n",
      "Epoch 7/40\n",
      "657/657 [==============================] - 112s 171ms/step - loss: 0.0355 - accuracy: 0.9892\n",
      "Epoch 8/40\n",
      "657/657 [==============================] - 114s 173ms/step - loss: 0.0323 - accuracy: 0.9904\n",
      "Epoch 9/40\n",
      "657/657 [==============================] - 112s 170ms/step - loss: 0.0209 - accuracy: 0.9931\n",
      "Epoch 10/40\n",
      "657/657 [==============================] - 115s 175ms/step - loss: 0.0247 - accuracy: 0.9925\n",
      "Epoch 11/40\n",
      "657/657 [==============================] - 111s 169ms/step - loss: 0.0324 - accuracy: 0.9907\n",
      "Epoch 12/40\n",
      "657/657 [==============================] - 115s 174ms/step - loss: 0.0247 - accuracy: 0.9928\n",
      "Epoch 13/40\n",
      "657/657 [==============================] - 117s 177ms/step - loss: 0.0237 - accuracy: 0.9931\n",
      "Epoch 14/40\n",
      "657/657 [==============================] - 113s 171ms/step - loss: 0.0324 - accuracy: 0.9918\n",
      "Epoch 15/40\n",
      "657/657 [==============================] - 117s 178ms/step - loss: 0.0125 - accuracy: 0.9962\n",
      "Epoch 16/40\n",
      "657/657 [==============================] - 112s 171ms/step - loss: 0.0145 - accuracy: 0.9958 - loss: 0.0144 \n",
      "Epoch 17/40\n",
      "657/657 [==============================] - 124s 189ms/step - loss: 0.0270 - accuracy: 0.9940\n",
      "Epoch 18/40\n",
      "657/657 [==============================] - 124s 188ms/step - loss: 0.0177 - accuracy: 0.9956\n",
      "Epoch 19/40\n",
      "657/657 [==============================] - 117s 178ms/step - loss: 0.0162 - accuracy: 0.9956\n",
      "Epoch 20/40\n",
      "657/657 [==============================] - 117s 178ms/step - loss: 0.0273 - accuracy: 0.9936\n",
      "Epoch 21/40\n",
      "657/657 [==============================] - 115s 174ms/step - loss: 0.0126 - accuracy: 0.9963\n",
      "Epoch 22/40\n",
      "657/657 [==============================] - 116s 176ms/step - loss: 0.0153 - accuracy: 0.9954\n",
      "Epoch 23/40\n",
      "657/657 [==============================] - 117s 178ms/step - loss: 0.0121 - accuracy: 0.9965\n",
      "Epoch 24/40\n",
      "657/657 [==============================] - 115s 175ms/step - loss: 0.0129 - accuracy: 0.9969\n",
      "Epoch 25/40\n",
      "657/657 [==============================] - 118s 180ms/step - loss: 0.0111 - accuracy: 0.9967\n",
      "Epoch 26/40\n",
      "657/657 [==============================] - 118s 180ms/step - loss: 0.0197 - accuracy: 0.9958\n",
      "Epoch 27/40\n",
      "657/657 [==============================] - 113s 172ms/step - loss: 0.0164 - accuracy: 0.9964\n",
      "Epoch 28/40\n",
      "657/657 [==============================] - 114s 174ms/step - loss: 0.0138 - accuracy: 0.9972 - loss: 0.0138 - accuracy:  - ETA: 2s\n",
      "Epoch 29/40\n",
      "657/657 [==============================] - 117s 178ms/step - loss: 0.0210 - accuracy: 0.9954\n",
      "Epoch 30/40\n",
      "657/657 [==============================] - 116s 176ms/step - loss: 0.0112 - accuracy: 0.9973\n",
      "Epoch 31/40\n",
      "657/657 [==============================] - 114s 173ms/step - loss: 0.0098 - accuracy: 0.9980\n",
      "Epoch 32/40\n",
      "657/657 [==============================] - 112s 171ms/step - loss: 0.0091 - accuracy: 0.9979\n",
      "Epoch 33/40\n",
      "657/657 [==============================] - 116s 176ms/step - loss: 0.0144 - accuracy: 0.9966\n",
      "Epoch 34/40\n",
      "657/657 [==============================] - 117s 177ms/step - loss: 0.0133 - accuracy: 0.9967\n",
      "Epoch 35/40\n",
      "657/657 [==============================] - 120s 182ms/step - loss: 0.0068 - accuracy: 0.9985\n",
      "Epoch 36/40\n",
      "657/657 [==============================] - 118s 179ms/step - loss: 0.0099 - accuracy: 0.9979\n",
      "Epoch 37/40\n",
      "657/657 [==============================] - 116s 177ms/step - loss: 0.0096 - accuracy: 0.9981\n",
      "Epoch 38/40\n",
      "657/657 [==============================] - 114s 173ms/step - loss: 0.0201 - accuracy: 0.9965\n",
      "Epoch 39/40\n",
      "657/657 [==============================] - 117s 178ms/step - loss: 0.0097 - accuracy: 0.9979\n",
      "Epoch 40/40\n",
      "657/657 [==============================] - 118s 179ms/step - loss: 0.0176 - accuracy: 0.9968\n"
     ]
    }
   ],
   "source": [
    "gen = ImageDataGenerator()\n",
    "batches = gen.flow(x,y,batch_size=64)\n",
    "history = bn_model.fit_generator(generator=batches,\n",
    "                                epochs=40)"
   ]
  },
  {
   "cell_type": "code",
   "execution_count": 199,
   "metadata": {},
   "outputs": [
    {
     "name": "stderr",
     "output_type": "stream",
     "text": [
      "C:\\Users\\admin\\anaconda3\\lib\\site-packages\\tensorflow\\python\\keras\\engine\\sequential.py:450: UserWarning: `model.predict_classes()` is deprecated and will be removed after 2021-01-01. Please use instead:* `np.argmax(model.predict(x), axis=-1)`,   if your model does multi-class classification   (e.g. if it uses a `softmax` last-layer activation).* `(model.predict(x) > 0.5).astype(\"int32\")`,   if your model does binary classification   (e.g. if it uses a `sigmoid` last-layer activation).\n",
      "  warnings.warn('`model.predict_classes()` is deprecated and '\n"
     ]
    },
    {
     "data": {
      "text/html": [
       "<div>\n",
       "<style scoped>\n",
       "    .dataframe tbody tr th:only-of-type {\n",
       "        vertical-align: middle;\n",
       "    }\n",
       "\n",
       "    .dataframe tbody tr th {\n",
       "        vertical-align: top;\n",
       "    }\n",
       "\n",
       "    .dataframe thead th {\n",
       "        text-align: right;\n",
       "    }\n",
       "</style>\n",
       "<table border=\"1\" class=\"dataframe\">\n",
       "  <thead>\n",
       "    <tr style=\"text-align: right;\">\n",
       "      <th></th>\n",
       "      <th>ImageId</th>\n",
       "      <th>Label</th>\n",
       "    </tr>\n",
       "  </thead>\n",
       "  <tbody>\n",
       "    <tr>\n",
       "      <th>0</th>\n",
       "      <td>1</td>\n",
       "      <td>2</td>\n",
       "    </tr>\n",
       "    <tr>\n",
       "      <th>1</th>\n",
       "      <td>2</td>\n",
       "      <td>0</td>\n",
       "    </tr>\n",
       "    <tr>\n",
       "      <th>2</th>\n",
       "      <td>3</td>\n",
       "      <td>9</td>\n",
       "    </tr>\n",
       "    <tr>\n",
       "      <th>3</th>\n",
       "      <td>4</td>\n",
       "      <td>0</td>\n",
       "    </tr>\n",
       "    <tr>\n",
       "      <th>4</th>\n",
       "      <td>5</td>\n",
       "      <td>3</td>\n",
       "    </tr>\n",
       "    <tr>\n",
       "      <th>...</th>\n",
       "      <td>...</td>\n",
       "      <td>...</td>\n",
       "    </tr>\n",
       "    <tr>\n",
       "      <th>27995</th>\n",
       "      <td>27996</td>\n",
       "      <td>9</td>\n",
       "    </tr>\n",
       "    <tr>\n",
       "      <th>27996</th>\n",
       "      <td>27997</td>\n",
       "      <td>7</td>\n",
       "    </tr>\n",
       "    <tr>\n",
       "      <th>27997</th>\n",
       "      <td>27998</td>\n",
       "      <td>3</td>\n",
       "    </tr>\n",
       "    <tr>\n",
       "      <th>27998</th>\n",
       "      <td>27999</td>\n",
       "      <td>9</td>\n",
       "    </tr>\n",
       "    <tr>\n",
       "      <th>27999</th>\n",
       "      <td>28000</td>\n",
       "      <td>2</td>\n",
       "    </tr>\n",
       "  </tbody>\n",
       "</table>\n",
       "<p>28000 rows × 2 columns</p>\n",
       "</div>"
      ],
      "text/plain": [
       "       ImageId  Label\n",
       "0            1      2\n",
       "1            2      0\n",
       "2            3      9\n",
       "3            4      0\n",
       "4            5      3\n",
       "...        ...    ...\n",
       "27995    27996      9\n",
       "27996    27997      7\n",
       "27997    27998      3\n",
       "27998    27999      9\n",
       "27999    28000      2\n",
       "\n",
       "[28000 rows x 2 columns]"
      ]
     },
     "execution_count": 199,
     "metadata": {},
     "output_type": "execute_result"
    }
   ],
   "source": [
    "submission = pd.read_csv('sample_submission.csv')\n",
    "submission.iloc[:,1] = bn_model.predict_classes(test)\n",
    "submission"
   ]
  },
  {
   "cell_type": "code",
   "execution_count": 200,
   "metadata": {},
   "outputs": [],
   "source": [
    "submission.to_csv('submission_epoch40.csv',index=False)"
   ]
  },
  {
   "cell_type": "code",
   "execution_count": null,
   "metadata": {},
   "outputs": [],
   "source": []
  }
 ],
 "metadata": {
  "kernelspec": {
   "display_name": "Python 3",
   "language": "python",
   "name": "python3"
  },
  "language_info": {
   "codemirror_mode": {
    "name": "ipython",
    "version": 3
   },
   "file_extension": ".py",
   "mimetype": "text/x-python",
   "name": "python",
   "nbconvert_exporter": "python",
   "pygments_lexer": "ipython3",
   "version": "3.8.5"
  },
  "toc": {
   "base_numbering": 1,
   "nav_menu": {},
   "number_sections": true,
   "sideBar": true,
   "skip_h1_title": false,
   "title_cell": "Table of Contents",
   "title_sidebar": "Contents",
   "toc_cell": false,
   "toc_position": {},
   "toc_section_display": true,
   "toc_window_display": false
  }
 },
 "nbformat": 4,
 "nbformat_minor": 4
}
