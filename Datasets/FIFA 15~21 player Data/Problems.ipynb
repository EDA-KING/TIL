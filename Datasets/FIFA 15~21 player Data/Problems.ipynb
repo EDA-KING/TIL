{
 "cells": [
  {
   "cell_type": "markdown",
   "metadata": {},
   "source": [
    "선수의 능력치는 어떻게 계산되었나\n",
    "선수 가치는 어떻게 계산되었나\n",
    "\n",
    "선수의 입장에서 어떤 능력을 연마해야 월클이 될 수 있을까\n",
    "선수의 입장에서 어떤 팀으로 가는 것이 나에게 최선일까\n",
    "선수의 입장에서 나의 능력과 가치에 맞는 연봉을 받고 있나\n",
    "선수의 입장에서 어느 팀이 나를 가장 필요로 할까\n",
    "\n",
    "구단의 입장에서 누구를 영입하는 것이 최선일까\n",
    "구단의 입장에서 누구를 방출시켜야 이득일까\n",
    "\n"
   ]
  }
 ],
 "metadata": {
  "kernelspec": {
   "display_name": "Python 3",
   "language": "python",
   "name": "python3"
  },
  "language_info": {
   "codemirror_mode": {
    "name": "ipython",
    "version": 3
   },
   "file_extension": ".py",
   "mimetype": "text/x-python",
   "name": "python",
   "nbconvert_exporter": "python",
   "pygments_lexer": "ipython3",
   "version": "3.8.5"
  },
  "toc": {
   "base_numbering": 1,
   "nav_menu": {},
   "number_sections": true,
   "sideBar": true,
   "skip_h1_title": false,
   "title_cell": "Table of Contents",
   "title_sidebar": "Contents",
   "toc_cell": false,
   "toc_position": {},
   "toc_section_display": true,
   "toc_window_display": false
  }
 },
 "nbformat": 4,
 "nbformat_minor": 4
}
