{
 "cells": [
  {
   "cell_type": "markdown",
   "metadata": {},
   "source": [
    "# Description(문제 파악)\n",
    "## Problem : 어떤 데이터 회사에서 데이터 사이언티스트를 양성하고, 채용하기 위한 훈련 코스를 진행하기로 하였고, 지원자들을 받았다. 이 지원자들의 인적사항을 보고 데이터 사이언티스트로써 커리어를 계속 이어나갈지, 다른 직업으로 바꿀지를 예측해봐라.\n",
    "\n",
    "## Features\n",
    "- enrollee_id : Unique ID for candidate\n",
    "- city: City code\n",
    "- city_ development _index : Developement index of the city (scaled)\n",
    "- gender: Gender of candidate\n",
    "- relevent_experience: Relevant experience of candidate\n",
    "- enrolled_university: Type of University course enrolled if any\n",
    "- education_level: Education level of candidate\n",
    "- major_discipline :Education major discipline of candidate\n",
    "- experience: Candidate total experience in years\n",
    "- company_size: No of employees in current employer's company\n",
    "- company_type : Type of current employer\n",
    "- lastnewjob: Difference in years between previous job and current job\n",
    "- training_hours: training hours completed\n",
    "- target: 0 – Not looking for job change, 1 – Looking for a job change\n",
    "\n",
    "## Note\n",
    "- The dataset is imbalanced.\n",
    "- Most features are categorical (Nominal, Ordinal, Binary), some with high cardinality.\n",
    "- Missing imputation can be a part of your pipeline as well."
   ]
  },
  {
   "cell_type": "code",
   "execution_count": 272,
   "metadata": {},
   "outputs": [],
   "source": [
    "import pandas as pd\n",
    "import numpy as np\n",
    "import matplotlib.pyplot as plt\n",
    "import seaborn as sns"
   ]
  },
  {
   "cell_type": "code",
   "execution_count": 273,
   "metadata": {},
   "outputs": [],
   "source": [
    "train = pd.read_csv('train.csv')\n",
    "test = pd.read_csv('test.csv')\n",
    "raw_train = train.copy()\n",
    "raw_test = test.copy()"
   ]
  },
  {
   "cell_type": "code",
   "execution_count": 274,
   "metadata": {},
   "outputs": [
    {
     "data": {
      "text/html": [
       "<div>\n",
       "<style scoped>\n",
       "    .dataframe tbody tr th:only-of-type {\n",
       "        vertical-align: middle;\n",
       "    }\n",
       "\n",
       "    .dataframe tbody tr th {\n",
       "        vertical-align: top;\n",
       "    }\n",
       "\n",
       "    .dataframe thead th {\n",
       "        text-align: right;\n",
       "    }\n",
       "</style>\n",
       "<table border=\"1\" class=\"dataframe\">\n",
       "  <thead>\n",
       "    <tr style=\"text-align: right;\">\n",
       "      <th></th>\n",
       "      <th>enrollee_id</th>\n",
       "      <th>city</th>\n",
       "      <th>city_development_index</th>\n",
       "      <th>gender</th>\n",
       "      <th>relevent_experience</th>\n",
       "      <th>enrolled_university</th>\n",
       "      <th>education_level</th>\n",
       "      <th>major_discipline</th>\n",
       "      <th>experience</th>\n",
       "      <th>company_size</th>\n",
       "      <th>company_type</th>\n",
       "      <th>last_new_job</th>\n",
       "      <th>training_hours</th>\n",
       "      <th>target</th>\n",
       "    </tr>\n",
       "  </thead>\n",
       "  <tbody>\n",
       "    <tr>\n",
       "      <th>0</th>\n",
       "      <td>8949</td>\n",
       "      <td>city_103</td>\n",
       "      <td>0.920</td>\n",
       "      <td>Male</td>\n",
       "      <td>Has relevent experience</td>\n",
       "      <td>no_enrollment</td>\n",
       "      <td>Graduate</td>\n",
       "      <td>STEM</td>\n",
       "      <td>&gt;20</td>\n",
       "      <td>NaN</td>\n",
       "      <td>NaN</td>\n",
       "      <td>1</td>\n",
       "      <td>36</td>\n",
       "      <td>1.0</td>\n",
       "    </tr>\n",
       "    <tr>\n",
       "      <th>1</th>\n",
       "      <td>29725</td>\n",
       "      <td>city_40</td>\n",
       "      <td>0.776</td>\n",
       "      <td>Male</td>\n",
       "      <td>No relevent experience</td>\n",
       "      <td>no_enrollment</td>\n",
       "      <td>Graduate</td>\n",
       "      <td>STEM</td>\n",
       "      <td>15</td>\n",
       "      <td>50-99</td>\n",
       "      <td>Pvt Ltd</td>\n",
       "      <td>&gt;4</td>\n",
       "      <td>47</td>\n",
       "      <td>0.0</td>\n",
       "    </tr>\n",
       "    <tr>\n",
       "      <th>2</th>\n",
       "      <td>11561</td>\n",
       "      <td>city_21</td>\n",
       "      <td>0.624</td>\n",
       "      <td>NaN</td>\n",
       "      <td>No relevent experience</td>\n",
       "      <td>Full time course</td>\n",
       "      <td>Graduate</td>\n",
       "      <td>STEM</td>\n",
       "      <td>5</td>\n",
       "      <td>NaN</td>\n",
       "      <td>NaN</td>\n",
       "      <td>never</td>\n",
       "      <td>83</td>\n",
       "      <td>0.0</td>\n",
       "    </tr>\n",
       "    <tr>\n",
       "      <th>3</th>\n",
       "      <td>33241</td>\n",
       "      <td>city_115</td>\n",
       "      <td>0.789</td>\n",
       "      <td>NaN</td>\n",
       "      <td>No relevent experience</td>\n",
       "      <td>NaN</td>\n",
       "      <td>Graduate</td>\n",
       "      <td>Business Degree</td>\n",
       "      <td>&lt;1</td>\n",
       "      <td>NaN</td>\n",
       "      <td>Pvt Ltd</td>\n",
       "      <td>never</td>\n",
       "      <td>52</td>\n",
       "      <td>1.0</td>\n",
       "    </tr>\n",
       "    <tr>\n",
       "      <th>4</th>\n",
       "      <td>666</td>\n",
       "      <td>city_162</td>\n",
       "      <td>0.767</td>\n",
       "      <td>Male</td>\n",
       "      <td>Has relevent experience</td>\n",
       "      <td>no_enrollment</td>\n",
       "      <td>Masters</td>\n",
       "      <td>STEM</td>\n",
       "      <td>&gt;20</td>\n",
       "      <td>50-99</td>\n",
       "      <td>Funded Startup</td>\n",
       "      <td>4</td>\n",
       "      <td>8</td>\n",
       "      <td>0.0</td>\n",
       "    </tr>\n",
       "    <tr>\n",
       "      <th>...</th>\n",
       "      <td>...</td>\n",
       "      <td>...</td>\n",
       "      <td>...</td>\n",
       "      <td>...</td>\n",
       "      <td>...</td>\n",
       "      <td>...</td>\n",
       "      <td>...</td>\n",
       "      <td>...</td>\n",
       "      <td>...</td>\n",
       "      <td>...</td>\n",
       "      <td>...</td>\n",
       "      <td>...</td>\n",
       "      <td>...</td>\n",
       "      <td>...</td>\n",
       "    </tr>\n",
       "    <tr>\n",
       "      <th>21282</th>\n",
       "      <td>1289</td>\n",
       "      <td>city_103</td>\n",
       "      <td>0.920</td>\n",
       "      <td>Male</td>\n",
       "      <td>No relevent experience</td>\n",
       "      <td>no_enrollment</td>\n",
       "      <td>Graduate</td>\n",
       "      <td>Humanities</td>\n",
       "      <td>16</td>\n",
       "      <td>NaN</td>\n",
       "      <td>Public Sector</td>\n",
       "      <td>4</td>\n",
       "      <td>15</td>\n",
       "      <td>NaN</td>\n",
       "    </tr>\n",
       "    <tr>\n",
       "      <th>21283</th>\n",
       "      <td>195</td>\n",
       "      <td>city_136</td>\n",
       "      <td>0.897</td>\n",
       "      <td>Male</td>\n",
       "      <td>Has relevent experience</td>\n",
       "      <td>no_enrollment</td>\n",
       "      <td>Masters</td>\n",
       "      <td>STEM</td>\n",
       "      <td>18</td>\n",
       "      <td>NaN</td>\n",
       "      <td>NaN</td>\n",
       "      <td>2</td>\n",
       "      <td>30</td>\n",
       "      <td>NaN</td>\n",
       "    </tr>\n",
       "    <tr>\n",
       "      <th>21284</th>\n",
       "      <td>31762</td>\n",
       "      <td>city_100</td>\n",
       "      <td>0.887</td>\n",
       "      <td>Male</td>\n",
       "      <td>No relevent experience</td>\n",
       "      <td>no_enrollment</td>\n",
       "      <td>Primary School</td>\n",
       "      <td>NaN</td>\n",
       "      <td>3</td>\n",
       "      <td>NaN</td>\n",
       "      <td>Pvt Ltd</td>\n",
       "      <td>never</td>\n",
       "      <td>18</td>\n",
       "      <td>NaN</td>\n",
       "    </tr>\n",
       "    <tr>\n",
       "      <th>21285</th>\n",
       "      <td>7873</td>\n",
       "      <td>city_102</td>\n",
       "      <td>0.804</td>\n",
       "      <td>Male</td>\n",
       "      <td>Has relevent experience</td>\n",
       "      <td>Full time course</td>\n",
       "      <td>High School</td>\n",
       "      <td>NaN</td>\n",
       "      <td>7</td>\n",
       "      <td>100-500</td>\n",
       "      <td>Public Sector</td>\n",
       "      <td>1</td>\n",
       "      <td>84</td>\n",
       "      <td>NaN</td>\n",
       "    </tr>\n",
       "    <tr>\n",
       "      <th>21286</th>\n",
       "      <td>12215</td>\n",
       "      <td>city_102</td>\n",
       "      <td>0.804</td>\n",
       "      <td>Male</td>\n",
       "      <td>Has relevent experience</td>\n",
       "      <td>no_enrollment</td>\n",
       "      <td>Masters</td>\n",
       "      <td>STEM</td>\n",
       "      <td>15</td>\n",
       "      <td>10000+</td>\n",
       "      <td>Pvt Ltd</td>\n",
       "      <td>2</td>\n",
       "      <td>11</td>\n",
       "      <td>NaN</td>\n",
       "    </tr>\n",
       "  </tbody>\n",
       "</table>\n",
       "<p>21287 rows × 14 columns</p>\n",
       "</div>"
      ],
      "text/plain": [
       "       enrollee_id      city  city_development_index gender  \\\n",
       "0             8949  city_103                   0.920   Male   \n",
       "1            29725   city_40                   0.776   Male   \n",
       "2            11561   city_21                   0.624    NaN   \n",
       "3            33241  city_115                   0.789    NaN   \n",
       "4              666  city_162                   0.767   Male   \n",
       "...            ...       ...                     ...    ...   \n",
       "21282         1289  city_103                   0.920   Male   \n",
       "21283          195  city_136                   0.897   Male   \n",
       "21284        31762  city_100                   0.887   Male   \n",
       "21285         7873  city_102                   0.804   Male   \n",
       "21286        12215  city_102                   0.804   Male   \n",
       "\n",
       "           relevent_experience enrolled_university education_level  \\\n",
       "0      Has relevent experience       no_enrollment        Graduate   \n",
       "1       No relevent experience       no_enrollment        Graduate   \n",
       "2       No relevent experience    Full time course        Graduate   \n",
       "3       No relevent experience                 NaN        Graduate   \n",
       "4      Has relevent experience       no_enrollment         Masters   \n",
       "...                        ...                 ...             ...   \n",
       "21282   No relevent experience       no_enrollment        Graduate   \n",
       "21283  Has relevent experience       no_enrollment         Masters   \n",
       "21284   No relevent experience       no_enrollment  Primary School   \n",
       "21285  Has relevent experience    Full time course     High School   \n",
       "21286  Has relevent experience       no_enrollment         Masters   \n",
       "\n",
       "      major_discipline experience company_size    company_type last_new_job  \\\n",
       "0                 STEM        >20          NaN             NaN            1   \n",
       "1                 STEM         15        50-99         Pvt Ltd           >4   \n",
       "2                 STEM          5          NaN             NaN        never   \n",
       "3      Business Degree         <1          NaN         Pvt Ltd        never   \n",
       "4                 STEM        >20        50-99  Funded Startup            4   \n",
       "...                ...        ...          ...             ...          ...   \n",
       "21282       Humanities         16          NaN   Public Sector            4   \n",
       "21283             STEM         18          NaN             NaN            2   \n",
       "21284              NaN          3          NaN         Pvt Ltd        never   \n",
       "21285              NaN          7      100-500   Public Sector            1   \n",
       "21286             STEM         15       10000+         Pvt Ltd            2   \n",
       "\n",
       "       training_hours  target  \n",
       "0                  36     1.0  \n",
       "1                  47     0.0  \n",
       "2                  83     0.0  \n",
       "3                  52     1.0  \n",
       "4                   8     0.0  \n",
       "...               ...     ...  \n",
       "21282              15     NaN  \n",
       "21283              30     NaN  \n",
       "21284              18     NaN  \n",
       "21285              84     NaN  \n",
       "21286              11     NaN  \n",
       "\n",
       "[21287 rows x 14 columns]"
      ]
     },
     "execution_count": 274,
     "metadata": {},
     "output_type": "execute_result"
    }
   ],
   "source": [
    "all_data = pd.concat([train,test],ignore_index=True)\n",
    "all_data"
   ]
  },
  {
   "cell_type": "code",
   "execution_count": 275,
   "metadata": {},
   "outputs": [
    {
     "name": "stdout",
     "output_type": "stream",
     "text": [
      "<class 'pandas.core.frame.DataFrame'>\n",
      "RangeIndex: 19158 entries, 0 to 19157\n",
      "Data columns (total 14 columns):\n",
      " #   Column                  Non-Null Count  Dtype  \n",
      "---  ------                  --------------  -----  \n",
      " 0   enrollee_id             19158 non-null  int64  \n",
      " 1   city                    19158 non-null  object \n",
      " 2   city_development_index  19158 non-null  float64\n",
      " 3   gender                  14650 non-null  object \n",
      " 4   relevent_experience     19158 non-null  object \n",
      " 5   enrolled_university     18772 non-null  object \n",
      " 6   education_level         18698 non-null  object \n",
      " 7   major_discipline        16345 non-null  object \n",
      " 8   experience              19093 non-null  object \n",
      " 9   company_size            13220 non-null  object \n",
      " 10  company_type            13018 non-null  object \n",
      " 11  last_new_job            18735 non-null  object \n",
      " 12  training_hours          19158 non-null  int64  \n",
      " 13  target                  19158 non-null  float64\n",
      "dtypes: float64(2), int64(2), object(10)\n",
      "memory usage: 2.0+ MB\n"
     ]
    }
   ],
   "source": [
    "train.info()"
   ]
  },
  {
   "cell_type": "markdown",
   "metadata": {},
   "source": [
    "# 데이터 파악(의미 파악)\n",
    "## enrollee_id"
   ]
  },
  {
   "cell_type": "code",
   "execution_count": 276,
   "metadata": {},
   "outputs": [
    {
     "data": {
      "text/plain": [
       "(21287, 21287)"
      ]
     },
     "execution_count": 276,
     "metadata": {},
     "output_type": "execute_result"
    }
   ],
   "source": [
    "len(all_data), len(all_data['enrollee_id'].unique())"
   ]
  },
  {
   "cell_type": "markdown",
   "metadata": {},
   "source": [
    "- 데이터 전체에 대해 unique함."
   ]
  },
  {
   "cell_type": "markdown",
   "metadata": {},
   "source": [
    "## city"
   ]
  },
  {
   "cell_type": "code",
   "execution_count": 277,
   "metadata": {},
   "outputs": [
    {
     "data": {
      "text/plain": [
       "0"
      ]
     },
     "execution_count": 277,
     "metadata": {},
     "output_type": "execute_result"
    }
   ],
   "source": [
    "all_data['city'].isnull().sum()"
   ]
  },
  {
   "cell_type": "code",
   "execution_count": 278,
   "metadata": {},
   "outputs": [
    {
     "data": {
      "text/plain": [
       "array(['city_103', 'city_40', 'city_21', 'city_115', 'city_162',\n",
       "       'city_176', 'city_160', 'city_46', 'city_61', 'city_114',\n",
       "       'city_13', 'city_159', 'city_102', 'city_67', 'city_100',\n",
       "       'city_16', 'city_71', 'city_104', 'city_64', 'city_101', 'city_83',\n",
       "       'city_105', 'city_73', 'city_75', 'city_41', 'city_11', 'city_93',\n",
       "       'city_90', 'city_36', 'city_20', 'city_57', 'city_152', 'city_19',\n",
       "       'city_65', 'city_74', 'city_173', 'city_136', 'city_98', 'city_97',\n",
       "       'city_50', 'city_138', 'city_82', 'city_157', 'city_89',\n",
       "       'city_150', 'city_70', 'city_175', 'city_94', 'city_28', 'city_59',\n",
       "       'city_165', 'city_145', 'city_142', 'city_26', 'city_12',\n",
       "       'city_37', 'city_43', 'city_116', 'city_23', 'city_99', 'city_149',\n",
       "       'city_10', 'city_45', 'city_80', 'city_128', 'city_158',\n",
       "       'city_123', 'city_7', 'city_72', 'city_106', 'city_143', 'city_78',\n",
       "       'city_109', 'city_24', 'city_134', 'city_48', 'city_144',\n",
       "       'city_91', 'city_146', 'city_133', 'city_126', 'city_118',\n",
       "       'city_9', 'city_167', 'city_27', 'city_84', 'city_54', 'city_39',\n",
       "       'city_79', 'city_76', 'city_77', 'city_81', 'city_131', 'city_44',\n",
       "       'city_117', 'city_155', 'city_33', 'city_141', 'city_127',\n",
       "       'city_62', 'city_53', 'city_25', 'city_2', 'city_69', 'city_120',\n",
       "       'city_111', 'city_30', 'city_1', 'city_140', 'city_179', 'city_55',\n",
       "       'city_14', 'city_42', 'city_107', 'city_18', 'city_139',\n",
       "       'city_180', 'city_166', 'city_121', 'city_129', 'city_8',\n",
       "       'city_31', 'city_171'], dtype=object)"
      ]
     },
     "execution_count": 278,
     "metadata": {},
     "output_type": "execute_result"
    }
   ],
   "source": [
    "all_data['city'].unique()"
   ]
  },
  {
   "cell_type": "markdown",
   "metadata": {},
   "source": [
    "- 지원자의 현직장이 위치한 도시인지, 거주하는 도시인지 명확하지 않았으나, NULL값이 없는 것으로 보아 현재 거주하는 도시인 것으로 생각됨.\n",
    "- 도시에 대한 구체적인 정보들은 모르나, 코드화되어있고 city_development_index와 1:1 대응 될 것으로 예상되므로 최종 예측 모델에서는 drop 해도 무방할 것으로 생각됨."
   ]
  },
  {
   "cell_type": "markdown",
   "metadata": {},
   "source": [
    "## city_development_index"
   ]
  },
  {
   "cell_type": "code",
   "execution_count": 279,
   "metadata": {},
   "outputs": [
    {
     "data": {
      "text/plain": [
       "0.920    5786\n",
       "0.624    3020\n",
       "0.910    1701\n",
       "0.926    1491\n",
       "0.698     770\n",
       "         ... \n",
       "0.824       4\n",
       "0.781       4\n",
       "0.649       4\n",
       "0.625       3\n",
       "0.664       2\n",
       "Name: city_development_index, Length: 93, dtype: int64"
      ]
     },
     "execution_count": 279,
     "metadata": {},
     "output_type": "execute_result"
    }
   ],
   "source": [
    "all_data['city_development_index'].value_counts()"
   ]
  },
  {
   "cell_type": "code",
   "execution_count": 280,
   "metadata": {},
   "outputs": [
    {
     "data": {
      "text/plain": [
       "0"
      ]
     },
     "execution_count": 280,
     "metadata": {},
     "output_type": "execute_result"
    }
   ],
   "source": [
    "all_data['city_development_index'].isnull().sum()"
   ]
  },
  {
   "cell_type": "code",
   "execution_count": 281,
   "metadata": {},
   "outputs": [
    {
     "data": {
      "text/plain": [
       "city\n",
       "city_1      1\n",
       "city_10     1\n",
       "city_100    1\n",
       "city_101    1\n",
       "city_102    1\n",
       "           ..\n",
       "city_93     1\n",
       "city_94     1\n",
       "city_97     1\n",
       "city_98     1\n",
       "city_99     1\n",
       "Name: city_development_index, Length: 123, dtype: int64"
      ]
     },
     "execution_count": 281,
     "metadata": {},
     "output_type": "execute_result"
    }
   ],
   "source": [
    "unique_count = all_data.groupby('city')['city_development_index'].nunique()\n",
    "unique_count"
   ]
  },
  {
   "cell_type": "code",
   "execution_count": 282,
   "metadata": {},
   "outputs": [
    {
     "data": {
      "text/plain": [
       "Series([], Name: city_development_index, dtype: int64)"
      ]
     },
     "execution_count": 282,
     "metadata": {},
     "output_type": "execute_result"
    }
   ],
   "source": [
    "unique_count[unique_count!=1]"
   ]
  },
  {
   "cell_type": "markdown",
   "metadata": {},
   "source": [
    "- 도시의 개발 정도를 수치화한 컬럼\n",
    "- city_development_index(도시개발지수)는 그 값이 같은 도시가 존재하므로 city 컬럼과 unique한 값의 갯수는 다르지만, 앞서 예상한 대로\n",
    "city 컬럼과 1:1 대응임을 확인함.\n",
    "- 도시개발지수 계산 방법 참고 : https://en.wikipedia.org/wiki/City_development_index\n",
    "- 계산에 포함되는 요소들로 미루어 보아 이 수치를 해당 지원자의 전반적인 생활, 교육 수준으로 생각해도 합리적인 것으로 판단됨."
   ]
  },
  {
   "cell_type": "markdown",
   "metadata": {},
   "source": [
    "## gender"
   ]
  },
  {
   "cell_type": "code",
   "execution_count": 283,
   "metadata": {},
   "outputs": [
    {
     "data": {
      "text/plain": [
       "Male      14681\n",
       "Female     1375\n",
       "Other       215\n",
       "Name: gender, dtype: int64"
      ]
     },
     "execution_count": 283,
     "metadata": {},
     "output_type": "execute_result"
    }
   ],
   "source": [
    "all_data['gender'].value_counts()"
   ]
  },
  {
   "cell_type": "code",
   "execution_count": 284,
   "metadata": {},
   "outputs": [
    {
     "data": {
      "text/plain": [
       "5016"
      ]
     },
     "execution_count": 284,
     "metadata": {},
     "output_type": "execute_result"
    }
   ],
   "source": [
    "all_data['gender'].isnull().sum()"
   ]
  },
  {
   "cell_type": "code",
   "execution_count": 285,
   "metadata": {},
   "outputs": [
    {
     "name": "stderr",
     "output_type": "stream",
     "text": [
      "C:\\Users\\admin\\anaconda3\\lib\\site-packages\\seaborn\\_decorators.py:36: FutureWarning: Pass the following variable as a keyword arg: x. From version 0.12, the only valid positional argument will be `data`, and passing other arguments without an explicit keyword will result in an error or misinterpretation.\n",
      "  warnings.warn(\n"
     ]
    },
    {
     "data": {
      "text/plain": [
       "<AxesSubplot:xlabel='gender', ylabel='count'>"
      ]
     },
     "execution_count": 285,
     "metadata": {},
     "output_type": "execute_result"
    },
    {
     "data": {
      "image/png": "[encoded data removed]",
      "text/plain": [
       "<Figure size 432x288 with 1 Axes>"
      ]
     },
     "metadata": {
      "needs_background": "light"
     },
     "output_type": "display_data"
    }
   ],
   "source": [
    "sns.countplot(all_data['gender'])"
   ]
  },
  {
   "cell_type": "code",
   "execution_count": 286,
   "metadata": {},
   "outputs": [
    {
     "name": "stderr",
     "output_type": "stream",
     "text": [
      "C:\\Users\\admin\\anaconda3\\lib\\site-packages\\seaborn\\_decorators.py:36: FutureWarning: Pass the following variable as a keyword arg: x. From version 0.12, the only valid positional argument will be `data`, and passing other arguments without an explicit keyword will result in an error or misinterpretation.\n",
      "  warnings.warn(\n"
     ]
    },
    {
     "data": {
      "text/plain": [
       "<AxesSubplot:xlabel='gender', ylabel='count'>"
      ]
     },
     "execution_count": 286,
     "metadata": {},
     "output_type": "execute_result"
    },
    {
     "data": {
      "image/png": "[encoded data removed]",
      "text/plain": [
       "<Figure size 432x288 with 1 Axes>"
      ]
     },
     "metadata": {
      "needs_background": "light"
     },
     "output_type": "display_data"
    }
   ],
   "source": [
    "sns.countplot(all_data['gender'],hue=all_data['major_discipline'])"
   ]
  },
  {
   "cell_type": "markdown",
   "metadata": {},
   "source": [
    "- 결측치 처리를 위해 gender와 관련 가능성이 있는 전공과목(major_discipline) 컬럼과의 관계를 확인해본 결과, \n",
    "큰 관련성은 찾지 못하였다.\n",
    "- 따라서 결측치는 gender 컬럼 분포에 따라 75%를 차지하고 있는 Male 값으로 처리하는 것이 합리적인 것으로 생각됨."
   ]
  },
  {
   "cell_type": "code",
   "execution_count": 287,
   "metadata": {},
   "outputs": [
    {
     "data": {
      "text/plain": [
       "0"
      ]
     },
     "execution_count": 287,
     "metadata": {},
     "output_type": "execute_result"
    }
   ],
   "source": [
    "all_data['gender'].fillna('Male',inplace=True)\n",
    "all_data['gender'].isnull().sum()"
   ]
  },
  {
   "cell_type": "code",
   "execution_count": 288,
   "metadata": {},
   "outputs": [
    {
     "data": {
      "text/plain": [
       "0"
      ]
     },
     "execution_count": 288,
     "metadata": {},
     "output_type": "execute_result"
    }
   ],
   "source": [
    "train['gender'].fillna('Male',inplace=True)\n",
    "train['gender'].isnull().sum()"
   ]
  },
  {
   "cell_type": "markdown",
   "metadata": {},
   "source": [
    "## relevent_experience"
   ]
  },
  {
   "cell_type": "code",
   "execution_count": 289,
   "metadata": {},
   "outputs": [
    {
     "data": {
      "text/plain": [
       "Has relevent experience    15316\n",
       "No relevent experience      5971\n",
       "Name: relevent_experience, dtype: int64"
      ]
     },
     "execution_count": 289,
     "metadata": {},
     "output_type": "execute_result"
    }
   ],
   "source": [
    "all_data['relevent_experience'].value_counts()"
   ]
  },
  {
   "cell_type": "code",
   "execution_count": 290,
   "metadata": {},
   "outputs": [
    {
     "data": {
      "text/plain": [
       "0"
      ]
     },
     "execution_count": 290,
     "metadata": {},
     "output_type": "execute_result"
    }
   ],
   "source": [
    "all_data['relevent_experience'].isnull().sum()"
   ]
  },
  {
   "cell_type": "markdown",
   "metadata": {},
   "source": [
    "- 관련 경험 여부를 Has, No로 표시\n",
    "- 결측치는 없으며, 값을 각각 1,0로 매핑하는 것이 적절해보임."
   ]
  },
  {
   "cell_type": "markdown",
   "metadata": {},
   "source": [
    "## enrolled_university      "
   ]
  },
  {
   "cell_type": "code",
   "execution_count": 291,
   "metadata": {},
   "outputs": [
    {
     "data": {
      "text/plain": [
       "no_enrollment       15336\n",
       "Full time course     4192\n",
       "Part time course     1342\n",
       "Name: enrolled_university, dtype: int64"
      ]
     },
     "execution_count": 291,
     "metadata": {},
     "output_type": "execute_result"
    }
   ],
   "source": [
    "all_data['enrolled_university'].value_counts()"
   ]
  },
  {
   "cell_type": "code",
   "execution_count": 292,
   "metadata": {},
   "outputs": [
    {
     "data": {
      "text/plain": [
       "417"
      ]
     },
     "execution_count": 292,
     "metadata": {},
     "output_type": "execute_result"
    }
   ],
   "source": [
    "all_data['enrolled_university'].isnull().sum()"
   ]
  },
  {
   "cell_type": "code",
   "execution_count": 293,
   "metadata": {},
   "outputs": [
    {
     "name": "stderr",
     "output_type": "stream",
     "text": [
      "C:\\Users\\admin\\anaconda3\\lib\\site-packages\\seaborn\\_decorators.py:36: FutureWarning: Pass the following variable as a keyword arg: x. From version 0.12, the only valid positional argument will be `data`, and passing other arguments without an explicit keyword will result in an error or misinterpretation.\n",
      "  warnings.warn(\n"
     ]
    },
    {
     "data": {
      "text/plain": [
       "<AxesSubplot:xlabel='enrolled_university', ylabel='count'>"
      ]
     },
     "execution_count": 293,
     "metadata": {},
     "output_type": "execute_result"
    },
    {
     "data": {
      "image/png": "[encoded data removed]",
      "text/plain": [
       "<Figure size 432x288 with 1 Axes>"
      ]
     },
     "metadata": {
      "needs_background": "light"
     },
     "output_type": "display_data"
    }
   ],
   "source": [
    "sns.countplot(all_data['enrolled_university'])"
   ]
  },
  {
   "cell_type": "code",
   "execution_count": 294,
   "metadata": {},
   "outputs": [
    {
     "name": "stderr",
     "output_type": "stream",
     "text": [
      "C:\\Users\\admin\\anaconda3\\lib\\site-packages\\seaborn\\_decorators.py:36: FutureWarning: Pass the following variable as a keyword arg: x. From version 0.12, the only valid positional argument will be `data`, and passing other arguments without an explicit keyword will result in an error or misinterpretation.\n",
      "  warnings.warn(\n"
     ]
    },
    {
     "data": {
      "text/plain": [
       "<AxesSubplot:xlabel='enrolled_university', ylabel='count'>"
      ]
     },
     "execution_count": 294,
     "metadata": {},
     "output_type": "execute_result"
    },
    {
     "data": {
      "image/png": "[encoded data removed]",
      "text/plain": [
       "<Figure size 432x288 with 1 Axes>"
      ]
     },
     "metadata": {
      "needs_background": "light"
     },
     "output_type": "display_data"
    }
   ],
   "source": [
    "sns.countplot(all_data['enrolled_university'],hue=all_data['education_level'])"
   ]
  },
  {
   "cell_type": "markdown",
   "metadata": {},
   "source": [
    "- 대학교 과정(코스) 등록 정보\n",
    "- 교육 수준 칼럼과도 비교해본 결과 대학 진학 여부와 관련이 없는 것으로 보이며, 대학에서 따로 진행하는 교육 코스일 것으로 추측됨.\n",
    "- full time course 값와 part time course 값을 enrollment로 합쳐 2개의 값으로 운영하는 것도 고려해 볼 필요가 있음.\n",
    "- 결측치는 75%의 비중을 차지하는 no_enrollment로 채우는 것이 합리적일 것으로 판단됨."
   ]
  },
  {
   "cell_type": "code",
   "execution_count": 295,
   "metadata": {},
   "outputs": [
    {
     "data": {
      "text/plain": [
       "0"
      ]
     },
     "execution_count": 295,
     "metadata": {},
     "output_type": "execute_result"
    }
   ],
   "source": [
    "all_data['enrolled_university'].fillna('no_enrollment',inplace=True)\n",
    "all_data['enrolled_university'].isnull().sum()"
   ]
  },
  {
   "cell_type": "code",
   "execution_count": 296,
   "metadata": {},
   "outputs": [
    {
     "data": {
      "text/plain": [
       "0"
      ]
     },
     "execution_count": 296,
     "metadata": {},
     "output_type": "execute_result"
    }
   ],
   "source": [
    "train['enrolled_university'].fillna('no_enrollment',inplace=True)\n",
    "train['enrolled_university'].isnull().sum()"
   ]
  },
  {
   "cell_type": "markdown",
   "metadata": {},
   "source": [
    "## education_level         "
   ]
  },
  {
   "cell_type": "code",
   "execution_count": 297,
   "metadata": {},
   "outputs": [
    {
     "data": {
      "text/plain": [
       "Graduate          12867\n",
       "Masters            4857\n",
       "High School        2239\n",
       "Phd                 468\n",
       "Primary School      344\n",
       "Name: education_level, dtype: int64"
      ]
     },
     "execution_count": 297,
     "metadata": {},
     "output_type": "execute_result"
    }
   ],
   "source": [
    "all_data['education_level'].value_counts()"
   ]
  },
  {
   "cell_type": "code",
   "execution_count": 298,
   "metadata": {},
   "outputs": [
    {
     "data": {
      "text/plain": [
       "512"
      ]
     },
     "execution_count": 298,
     "metadata": {},
     "output_type": "execute_result"
    }
   ],
   "source": [
    "all_data['education_level'].isnull().sum()"
   ]
  },
  {
   "cell_type": "code",
   "execution_count": 299,
   "metadata": {},
   "outputs": [
    {
     "name": "stderr",
     "output_type": "stream",
     "text": [
      "C:\\Users\\admin\\anaconda3\\lib\\site-packages\\seaborn\\_decorators.py:36: FutureWarning: Pass the following variable as a keyword arg: x. From version 0.12, the only valid positional argument will be `data`, and passing other arguments without an explicit keyword will result in an error or misinterpretation.\n",
      "  warnings.warn(\n"
     ]
    },
    {
     "data": {
      "text/plain": [
       "<AxesSubplot:xlabel='education_level', ylabel='count'>"
      ]
     },
     "execution_count": 299,
     "metadata": {},
     "output_type": "execute_result"
    },
    {
     "data": {
      "image/png": "[encoded data removed]",
      "text/plain": [
       "<Figure size 432x288 with 1 Axes>"
      ]
     },
     "metadata": {
      "needs_background": "light"
     },
     "output_type": "display_data"
    }
   ],
   "source": [
    "sns.countplot(all_data['education_level'])"
   ]
  },
  {
   "cell_type": "markdown",
   "metadata": {},
   "source": [
    "- 교육 수준 정보\n",
    "- Primary School : 초등학교, High School : 중,고등학교, Graduate : 학사, Masters : 석사, Phd : 박사\n",
    "- 결측치 처리는 최빈값인 Graduate으로 처리"
   ]
  },
  {
   "cell_type": "code",
   "execution_count": 300,
   "metadata": {},
   "outputs": [
    {
     "data": {
      "text/plain": [
       "0"
      ]
     },
     "execution_count": 300,
     "metadata": {},
     "output_type": "execute_result"
    }
   ],
   "source": [
    "all_data['education_level'].fillna('Graduate',inplace=True)\n",
    "all_data['education_level'].isnull().sum()"
   ]
  },
  {
   "cell_type": "code",
   "execution_count": 301,
   "metadata": {},
   "outputs": [
    {
     "data": {
      "text/plain": [
       "0"
      ]
     },
     "execution_count": 301,
     "metadata": {},
     "output_type": "execute_result"
    }
   ],
   "source": [
    "train['education_level'].fillna('Graduate',inplace=True)\n",
    "train['education_level'].isnull().sum()"
   ]
  },
  {
   "cell_type": "markdown",
   "metadata": {},
   "source": [
    "## major_discipline        "
   ]
  },
  {
   "cell_type": "code",
   "execution_count": 302,
   "metadata": {},
   "outputs": [
    {
     "data": {
      "text/plain": [
       "STEM               16113\n",
       "Humanities           749\n",
       "Other                421\n",
       "Business Degree      364\n",
       "Arts                 270\n",
       "No Major             245\n",
       "Name: major_discipline, dtype: int64"
      ]
     },
     "execution_count": 302,
     "metadata": {},
     "output_type": "execute_result"
    }
   ],
   "source": [
    "all_data['major_discipline'].value_counts()"
   ]
  },
  {
   "cell_type": "code",
   "execution_count": 303,
   "metadata": {},
   "outputs": [
    {
     "data": {
      "text/plain": [
       "3125"
      ]
     },
     "execution_count": 303,
     "metadata": {},
     "output_type": "execute_result"
    }
   ],
   "source": [
    "all_data['major_discipline'].isnull().sum()"
   ]
  },
  {
   "cell_type": "code",
   "execution_count": 304,
   "metadata": {},
   "outputs": [
    {
     "name": "stderr",
     "output_type": "stream",
     "text": [
      "C:\\Users\\admin\\anaconda3\\lib\\site-packages\\seaborn\\_decorators.py:36: FutureWarning: Pass the following variable as a keyword arg: x. From version 0.12, the only valid positional argument will be `data`, and passing other arguments without an explicit keyword will result in an error or misinterpretation.\n",
      "  warnings.warn(\n"
     ]
    },
    {
     "data": {
      "text/plain": [
       "<AxesSubplot:xlabel='major_discipline', ylabel='count'>"
      ]
     },
     "execution_count": 304,
     "metadata": {},
     "output_type": "execute_result"
    },
    {
     "data": {
      "image/png": "[encoded data removed]",
      "text/plain": [
       "<Figure size 432x288 with 1 Axes>"
      ]
     },
     "metadata": {
      "needs_background": "light"
     },
     "output_type": "display_data"
    }
   ],
   "source": [
    "sns.countplot(all_data['major_discipline'])"
   ]
  },
  {
   "cell_type": "markdown",
   "metadata": {},
   "source": [
    "- 전공 분야 정보 \n",
    "- STEM : Science, Technology, Engineering, Mathmetics(= 이과)\n",
    "- Humanities : 인문학\n",
    "- Business Degree : 경영학\n",
    "- 데이터 사이언티스트 희망자들은 대부분 이과계열일 것으로 추정되고, 실제로도 대부분의 비중을 차지하고 있으므로,\n",
    "결측치는 STEM으로 처리"
   ]
  },
  {
   "cell_type": "code",
   "execution_count": 305,
   "metadata": {},
   "outputs": [
    {
     "data": {
      "text/plain": [
       "0"
      ]
     },
     "execution_count": 305,
     "metadata": {},
     "output_type": "execute_result"
    }
   ],
   "source": [
    "all_data['major_discipline'].fillna('STEM',inplace=True)\n",
    "all_data['major_discipline'].isnull().sum()"
   ]
  },
  {
   "cell_type": "code",
   "execution_count": 306,
   "metadata": {},
   "outputs": [
    {
     "data": {
      "text/plain": [
       "0"
      ]
     },
     "execution_count": 306,
     "metadata": {},
     "output_type": "execute_result"
    }
   ],
   "source": [
    "train['major_discipline'].fillna('STEM',inplace=True)\n",
    "train['major_discipline'].isnull().sum()"
   ]
  },
  {
   "cell_type": "markdown",
   "metadata": {},
   "source": [
    "## experience              "
   ]
  },
  {
   "cell_type": "code",
   "execution_count": 307,
   "metadata": {},
   "outputs": [
    {
     "data": {
      "text/plain": [
       ">20    3669\n",
       "5      1593\n",
       "4      1548\n",
       "3      1508\n",
       "6      1346\n",
       "2      1255\n",
       "7      1144\n",
       "9      1093\n",
       "10     1081\n",
       "8       884\n",
       "11      750\n",
       "15      745\n",
       "14      641\n",
       "1       605\n",
       "<1      596\n",
       "16      576\n",
       "12      546\n",
       "13      453\n",
       "17      378\n",
       "19      333\n",
       "18      306\n",
       "20      167\n",
       "Name: experience, dtype: int64"
      ]
     },
     "execution_count": 307,
     "metadata": {},
     "output_type": "execute_result"
    }
   ],
   "source": [
    "all_data['experience'].value_counts()"
   ]
  },
  {
   "cell_type": "code",
   "execution_count": 308,
   "metadata": {},
   "outputs": [
    {
     "data": {
      "text/plain": [
       "70"
      ]
     },
     "execution_count": 308,
     "metadata": {},
     "output_type": "execute_result"
    }
   ],
   "source": [
    "all_data['experience'].isnull().sum()"
   ]
  },
  {
   "cell_type": "markdown",
   "metadata": {},
   "source": [
    "- 총 경험 년수\n",
    "- 결측치는 경험이 없는 것을 의미하는 것으로 생각되고, 0으로 채우거나 <1로 채우는 것이 합리적일 것으로 판단됨."
   ]
  },
  {
   "cell_type": "code",
   "execution_count": 309,
   "metadata": {},
   "outputs": [
    {
     "data": {
      "text/plain": [
       "0"
      ]
     },
     "execution_count": 309,
     "metadata": {},
     "output_type": "execute_result"
    }
   ],
   "source": [
    "all_data['experience'].fillna('<1',inplace=True)\n",
    "all_data['experience'].isnull().sum()"
   ]
  },
  {
   "cell_type": "code",
   "execution_count": 310,
   "metadata": {},
   "outputs": [
    {
     "data": {
      "text/plain": [
       "0"
      ]
     },
     "execution_count": 310,
     "metadata": {},
     "output_type": "execute_result"
    }
   ],
   "source": [
    "train['experience'].fillna('<1',inplace=True)\n",
    "train['experience'].isnull().sum()"
   ]
  },
  {
   "cell_type": "markdown",
   "metadata": {},
   "source": [
    "## company_size            "
   ]
  },
  {
   "cell_type": "code",
   "execution_count": 311,
   "metadata": {},
   "outputs": [
    {
     "data": {
      "text/plain": [
       "50-99        3421\n",
       "100-500      2889\n",
       "10000+       2236\n",
       "10/49        1643\n",
       "<10          1471\n",
       "1000-4999    1471\n",
       "500-999       965\n",
       "5000-9999     631\n",
       "Name: company_size, dtype: int64"
      ]
     },
     "execution_count": 311,
     "metadata": {},
     "output_type": "execute_result"
    }
   ],
   "source": [
    "all_data['company_size'].value_counts()"
   ]
  },
  {
   "cell_type": "code",
   "execution_count": 312,
   "metadata": {},
   "outputs": [
    {
     "data": {
      "text/plain": [
       "6560"
      ]
     },
     "execution_count": 312,
     "metadata": {},
     "output_type": "execute_result"
    }
   ],
   "source": [
    "all_data['company_size'].isnull().sum()"
   ]
  },
  {
   "cell_type": "code",
   "execution_count": 313,
   "metadata": {},
   "outputs": [
    {
     "data": {
      "text/plain": [
       "<AxesSubplot:ylabel='company_size'>"
      ]
     },
     "execution_count": 313,
     "metadata": {},
     "output_type": "execute_result"
    },
    {
     "data": {
      "image/png": "[encoded data removed]",
      "text/plain": [
       "<Figure size 720x360 with 1 Axes>"
      ]
     },
     "metadata": {
      "needs_background": "light"
     },
     "output_type": "display_data"
    }
   ],
   "source": [
    "plt.figure(figsize=(10,5))\n",
    "sns.barplot(x=all_data['company_size'].value_counts().index,y=all_data['company_size'].value_counts())"
   ]
  },
  {
   "cell_type": "code",
   "execution_count": 314,
   "metadata": {},
   "outputs": [
    {
     "name": "stderr",
     "output_type": "stream",
     "text": [
      "C:\\Users\\admin\\anaconda3\\lib\\site-packages\\seaborn\\_decorators.py:36: FutureWarning: Pass the following variable as a keyword arg: x. From version 0.12, the only valid positional argument will be `data`, and passing other arguments without an explicit keyword will result in an error or misinterpretation.\n",
      "  warnings.warn(\n"
     ]
    },
    {
     "data": {
      "text/plain": [
       "<AxesSubplot:xlabel='company_size', ylabel='count'>"
      ]
     },
     "execution_count": 314,
     "metadata": {},
     "output_type": "execute_result"
    },
    {
     "data": {
      "image/png": "[encoded data removed]",
      "text/plain": [
       "<Figure size 720x360 with 1 Axes>"
      ]
     },
     "metadata": {
      "needs_background": "light"
     },
     "output_type": "display_data"
    }
   ],
   "source": [
    "plt.figure(figsize=(10,5))\n",
    "sns.countplot(train['company_size'],hue=train['target'])"
   ]
  },
  {
   "cell_type": "markdown",
   "metadata": {},
   "source": [
    "- 현재 다니는 회사의 직원 수\n",
    "- 결측치는 현재 다니는 회사가 없는 것을 의미하는 것으로 생각되므로 'None'으로 처리"
   ]
  },
  {
   "cell_type": "code",
   "execution_count": 315,
   "metadata": {},
   "outputs": [
    {
     "data": {
      "text/plain": [
       "0"
      ]
     },
     "execution_count": 315,
     "metadata": {},
     "output_type": "execute_result"
    }
   ],
   "source": [
    "all_data['company_size'].fillna('None',inplace=True)\n",
    "all_data['company_size'].isnull().sum()"
   ]
  },
  {
   "cell_type": "code",
   "execution_count": 316,
   "metadata": {},
   "outputs": [
    {
     "data": {
      "text/plain": [
       "0"
      ]
     },
     "execution_count": 316,
     "metadata": {},
     "output_type": "execute_result"
    }
   ],
   "source": [
    "train['company_size'].fillna('None',inplace=True)\n",
    "train['company_size'].isnull().sum()"
   ]
  },
  {
   "cell_type": "markdown",
   "metadata": {},
   "source": [
    "## company_type            "
   ]
  },
  {
   "cell_type": "code",
   "execution_count": 317,
   "metadata": {},
   "outputs": [
    {
     "data": {
      "text/plain": [
       "Pvt Ltd                10958\n",
       "Funded Startup          1098\n",
       "Public Sector           1082\n",
       "Early Stage Startup      668\n",
       "NGO                      574\n",
       "Other                    133\n",
       "Name: company_type, dtype: int64"
      ]
     },
     "execution_count": 317,
     "metadata": {},
     "output_type": "execute_result"
    }
   ],
   "source": [
    "all_data['company_type'].value_counts()"
   ]
  },
  {
   "cell_type": "code",
   "execution_count": 318,
   "metadata": {},
   "outputs": [
    {
     "data": {
      "text/plain": [
       "6774"
      ]
     },
     "execution_count": 318,
     "metadata": {},
     "output_type": "execute_result"
    }
   ],
   "source": [
    "all_data['company_type'].isnull().sum()"
   ]
  },
  {
   "cell_type": "markdown",
   "metadata": {},
   "source": [
    "- 현재 다니는 회사의 타입\n",
    "- Pvt Ltd : 개인 회사\n",
    "- Funded Startup : 스타트업\n",
    "- Public Sector : 정부 기구\n",
    "- Early Stage Startup : 스타트업\n",
    "- NGO : 비정부 기구\n",
    "- company_size와 결측치 갯수가 비슷한 것으로보아 마찬가지로 현재 다니는 회사가 없다는 것으로 생각되므로 'None'으로 처리. "
   ]
  },
  {
   "cell_type": "code",
   "execution_count": 319,
   "metadata": {},
   "outputs": [
    {
     "data": {
      "text/plain": [
       "0"
      ]
     },
     "execution_count": 319,
     "metadata": {},
     "output_type": "execute_result"
    }
   ],
   "source": [
    "all_data['company_type'].fillna('None',inplace=True)\n",
    "all_data['company_type'].isnull().sum()"
   ]
  },
  {
   "cell_type": "code",
   "execution_count": 320,
   "metadata": {},
   "outputs": [
    {
     "data": {
      "text/plain": [
       "0"
      ]
     },
     "execution_count": 320,
     "metadata": {},
     "output_type": "execute_result"
    }
   ],
   "source": [
    "train['company_type'].fillna('None',inplace=True)\n",
    "train['company_type'].isnull().sum()"
   ]
  },
  {
   "cell_type": "markdown",
   "metadata": {},
   "source": [
    "## last_new_job            "
   ]
  },
  {
   "cell_type": "code",
   "execution_count": 321,
   "metadata": {},
   "outputs": [
    {
     "data": {
      "text/plain": [
       "1        8924\n",
       ">4       3643\n",
       "2        3242\n",
       "never    2710\n",
       "3        1157\n",
       "4        1148\n",
       "Name: last_new_job, dtype: int64"
      ]
     },
     "execution_count": 321,
     "metadata": {},
     "output_type": "execute_result"
    }
   ],
   "source": [
    "all_data['last_new_job'].value_counts()"
   ]
  },
  {
   "cell_type": "code",
   "execution_count": 322,
   "metadata": {},
   "outputs": [
    {
     "data": {
      "text/plain": [
       "463"
      ]
     },
     "execution_count": 322,
     "metadata": {},
     "output_type": "execute_result"
    }
   ],
   "source": [
    "all_data['last_new_job'].isnull().sum()"
   ]
  },
  {
   "cell_type": "code",
   "execution_count": 323,
   "metadata": {},
   "outputs": [
    {
     "name": "stderr",
     "output_type": "stream",
     "text": [
      "C:\\Users\\admin\\anaconda3\\lib\\site-packages\\seaborn\\_decorators.py:36: FutureWarning: Pass the following variable as a keyword arg: x. From version 0.12, the only valid positional argument will be `data`, and passing other arguments without an explicit keyword will result in an error or misinterpretation.\n",
      "  warnings.warn(\n"
     ]
    },
    {
     "data": {
      "text/plain": [
       "<AxesSubplot:xlabel='last_new_job', ylabel='count'>"
      ]
     },
     "execution_count": 323,
     "metadata": {},
     "output_type": "execute_result"
    },
    {
     "data": {
      "image/png": "[encoded data removed]",
      "text/plain": [
       "<Figure size 432x288 with 1 Axes>"
      ]
     },
     "metadata": {
      "needs_background": "light"
     },
     "output_type": "display_data"
    }
   ],
   "source": [
    "sns.countplot(all_data['last_new_job'])"
   ]
  },
  {
   "cell_type": "markdown",
   "metadata": {},
   "source": [
    "- 현재 job과 전 job의 년도 차이\n",
    "- 현재 job을 몇년째 유지하고 있는지와, job change 여부를 파악 할 수있음.\n",
    "- 결측치는 최빈값인 1로 처리"
   ]
  },
  {
   "cell_type": "code",
   "execution_count": 324,
   "metadata": {},
   "outputs": [
    {
     "data": {
      "text/plain": [
       "0"
      ]
     },
     "execution_count": 324,
     "metadata": {},
     "output_type": "execute_result"
    }
   ],
   "source": [
    "all_data['last_new_job'].fillna('1',inplace=True)\n",
    "all_data['last_new_job'].isnull().sum()"
   ]
  },
  {
   "cell_type": "code",
   "execution_count": 325,
   "metadata": {},
   "outputs": [
    {
     "data": {
      "text/plain": [
       "0"
      ]
     },
     "execution_count": 325,
     "metadata": {},
     "output_type": "execute_result"
    }
   ],
   "source": [
    "train['last_new_job'].fillna('1',inplace=True)\n",
    "train['last_new_job'].isnull().sum()"
   ]
  },
  {
   "cell_type": "markdown",
   "metadata": {},
   "source": [
    "## training_hours          "
   ]
  },
  {
   "cell_type": "code",
   "execution_count": 326,
   "metadata": {},
   "outputs": [
    {
     "name": "stderr",
     "output_type": "stream",
     "text": [
      "C:\\Users\\admin\\anaconda3\\lib\\site-packages\\seaborn\\distributions.py:2551: FutureWarning: `distplot` is a deprecated function and will be removed in a future version. Please adapt your code to use either `displot` (a figure-level function with similar flexibility) or `histplot` (an axes-level function for histograms).\n",
      "  warnings.warn(msg, FutureWarning)\n"
     ]
    },
    {
     "data": {
      "text/plain": [
       "<AxesSubplot:xlabel='training_hours', ylabel='Density'>"
      ]
     },
     "execution_count": 326,
     "metadata": {},
     "output_type": "execute_result"
    },
    {
     "data": {
      "image/png": "[encoded data removed]",
      "text/plain": [
       "<Figure size 432x288 with 1 Axes>"
      ]
     },
     "metadata": {
      "needs_background": "light"
     },
     "output_type": "display_data"
    }
   ],
   "source": [
    "sns.distplot(all_data['training_hours'])"
   ]
  },
  {
   "cell_type": "code",
   "execution_count": 327,
   "metadata": {},
   "outputs": [
    {
     "data": {
      "text/plain": [
       "0"
      ]
     },
     "execution_count": 327,
     "metadata": {},
     "output_type": "execute_result"
    }
   ],
   "source": [
    "len(all_data[all_data['training_hours']==0])"
   ]
  },
  {
   "cell_type": "code",
   "execution_count": 328,
   "metadata": {},
   "outputs": [
    {
     "data": {
      "text/plain": [
       "0"
      ]
     },
     "execution_count": 328,
     "metadata": {},
     "output_type": "execute_result"
    }
   ],
   "source": [
    "all_data['training_hours'].isnull().sum()"
   ]
  },
  {
   "cell_type": "markdown",
   "metadata": {},
   "source": [
    "- 완수한 훈련 시간\n",
    "- 0시간과 결측치가 없는 것으로 보아 모든 지원자가 훈련을 완수한 경험이 있다는 것을 알 수 있음 "
   ]
  },
  {
   "cell_type": "markdown",
   "metadata": {},
   "source": [
    "## target                  "
   ]
  },
  {
   "cell_type": "code",
   "execution_count": 329,
   "metadata": {},
   "outputs": [
    {
     "data": {
      "text/plain": [
       "0.0    14381\n",
       "1.0     4777\n",
       "Name: target, dtype: int64"
      ]
     },
     "execution_count": 329,
     "metadata": {},
     "output_type": "execute_result"
    }
   ],
   "source": [
    "train['target'].value_counts()"
   ]
  },
  {
   "cell_type": "markdown",
   "metadata": {},
   "source": [
    "- 예측하고자 하는 타겟\n",
    "- 데이터 사이언티스트에서 다른 job으로 change할 것으로 예측: 1, 데이터 사이언티스트 job을 유지할 것으로 예측 : 0\n",
    "- 값의 분포가 언밸러스하다는 것을 알 수 있고, 그에 맞는 처리가 필요해 보임."
   ]
  },
  {
   "cell_type": "markdown",
   "metadata": {},
   "source": [
    "# 가설"
   ]
  },
  {
   "cell_type": "markdown",
   "metadata": {},
   "source": [
    "- 도시개발지수가 높을수록 데이터 사이언티스트 job을 유지하지 않을까\n",
    "- 여성이면 데이터 사이언티스트에서 다른 job으로 change할 가능성이 높지 않을까\n",
    "- 관련 경험이 있다면, 데이터 사이언티스트 job을 유지 하지 않을까\n",
    "- 대학 과정(코스) 등록과는 큰 관련이 없지 않을까\n",
    "- 교육 수준이 높을수록, 데이터 사이언티스트 job을 유지 하지 않을까\n",
    "- STEM(이과) 전공이 아니라면 다른 job으로 change할 가능성이 높지 않을까\n",
    "- 총 경험 년수가 많을수록 데이터 사이언티스트 job을 유지 하지 않을까\n",
    "- 현재 다니는 회사의 규모가 클수록 데이터 사이언티스트 job을 유지 하지 않을까\n",
    "- 현재 다니는 회사의 타입과는 큰 관련이 없지 않을까\n",
    "- 새로운 job으로 change한 경험이 없다면 데이터 사이언티스트 job을 유지 하지 않을까\n",
    "- 훈련 시간이 높을수록 데이터 사이언티스트 job을 유지 하지 않을까"
   ]
  },
  {
   "cell_type": "markdown",
   "metadata": {},
   "source": [
    "# 현상 탐구"
   ]
  },
  {
   "cell_type": "code",
   "execution_count": 330,
   "metadata": {},
   "outputs": [
    {
     "name": "stderr",
     "output_type": "stream",
     "text": [
      "C:\\Users\\admin\\anaconda3\\lib\\site-packages\\seaborn\\distributions.py:2551: FutureWarning: `distplot` is a deprecated function and will be removed in a future version. Please adapt your code to use either `displot` (a figure-level function with similar flexibility) or `histplot` (an axes-level function for histograms).\n",
      "  warnings.warn(msg, FutureWarning)\n"
     ]
    },
    {
     "data": {
      "text/plain": [
       "<AxesSubplot:xlabel='city_development_index', ylabel='Density'>"
      ]
     },
     "execution_count": 330,
     "metadata": {},
     "output_type": "execute_result"
    },
    {
     "data": {
      "image/png": "[encoded data removed]",
      "text/plain": [
       "<Figure size 432x288 with 1 Axes>"
      ]
     },
     "metadata": {
      "needs_background": "light"
     },
     "output_type": "display_data"
    }
   ],
   "source": [
    "sns.distplot(all_data['city_development_index'])"
   ]
  },
  {
   "cell_type": "markdown",
   "metadata": {},
   "source": [
    "## \n",
    "- 도시개발지수는 대부분 0.6~1.0사이이고 0.6부근과 0.9부근에서 두드러지는 것을 볼 수 있다."
   ]
  },
  {
   "cell_type": "code",
   "execution_count": 331,
   "metadata": {},
   "outputs": [
    {
     "data": {
      "text/plain": [
       "<AxesSubplot:xlabel='target', ylabel='city_development_index'>"
      ]
     },
     "execution_count": 331,
     "metadata": {},
     "output_type": "execute_result"
    },
    {
     "data": {
      "image/png": "[encoded data removed]",
      "text/plain": [
       "<Figure size 432x288 with 1 Axes>"
      ]
     },
     "metadata": {
      "needs_background": "light"
     },
     "output_type": "display_data"
    }
   ],
   "source": [
    "sns.boxplot(x=train['target'],y=train['city_development_index'])"
   ]
  },
  {
   "cell_type": "markdown",
   "metadata": {},
   "source": [
    "## \n",
    "- 타겟별로 도시개발지수의 확연한 분포 차이를 확인할 수 있다.\n",
    "- 도시개발지수의 계산 과정을 살펴보았을때, 도시개발지수가 높다는 것은 전반적인 생활,교육 수준이 높다는 것으로 생각 할 수 있고, 따라서 바로 다른 직업을 구하지 않고, 다른 직업에 비해 준비과정이 오래 걸리는 데이터 사이언티스트 job을 유지할 수 있는 것이 원인으로 생각된다."
   ]
  },
  {
   "cell_type": "code",
   "execution_count": 332,
   "metadata": {},
   "outputs": [
    {
     "name": "stderr",
     "output_type": "stream",
     "text": [
      "C:\\Users\\admin\\anaconda3\\lib\\site-packages\\seaborn\\_decorators.py:36: FutureWarning: Pass the following variable as a keyword arg: x. From version 0.12, the only valid positional argument will be `data`, and passing other arguments without an explicit keyword will result in an error or misinterpretation.\n",
      "  warnings.warn(\n"
     ]
    },
    {
     "data": {
      "text/plain": [
       "<AxesSubplot:xlabel='gender', ylabel='count'>"
      ]
     },
     "execution_count": 332,
     "metadata": {},
     "output_type": "execute_result"
    },
    {
     "data": {
      "image/png": "[encoded data removed]",
      "text/plain": [
       "<Figure size 432x288 with 1 Axes>"
      ]
     },
     "metadata": {
      "needs_background": "light"
     },
     "output_type": "display_data"
    }
   ],
   "source": [
    "sns.countplot(train['gender'],hue=train['target'])"
   ]
  },
  {
   "cell_type": "code",
   "execution_count": 333,
   "metadata": {},
   "outputs": [
    {
     "name": "stdout",
     "output_type": "stream",
     "text": [
      "남성이 데이터 사이언티스트에서 다른 job으로 change하는 비율 24.823735123244404\n",
      "여성이 데이터 사이언티스트에서 다른 job으로 change하는 비율 26.33279483037157\n"
     ]
    }
   ],
   "source": [
    "print('남성이 데이터 사이언티스트에서 다른 job으로 change하는 비율' , len(train[(train['gender']=='Male')&(train['target']==1)]) / len(train[train['gender']=='Male']) * 100  )   \n",
    "print('여성이 데이터 사이언티스트에서 다른 job으로 change하는 비율' , len(train[(train['gender']=='Female')&(train['target']==1)]) / len(train[train['gender']=='Female']) * 100  )   "
   ]
  },
  {
   "cell_type": "markdown",
   "metadata": {},
   "source": [
    "## \n",
    "- 여성이 job change할 확률이 남성보다 조금 더 높긴 하지만, 거의 비슷하므로 타겟에 큰 영향력을 미치진 않는 것으로 생각된다."
   ]
  },
  {
   "cell_type": "code",
   "execution_count": 334,
   "metadata": {},
   "outputs": [
    {
     "name": "stderr",
     "output_type": "stream",
     "text": [
      "C:\\Users\\admin\\anaconda3\\lib\\site-packages\\seaborn\\_decorators.py:36: FutureWarning: Pass the following variable as a keyword arg: x. From version 0.12, the only valid positional argument will be `data`, and passing other arguments without an explicit keyword will result in an error or misinterpretation.\n",
      "  warnings.warn(\n"
     ]
    },
    {
     "data": {
      "text/plain": [
       "<AxesSubplot:xlabel='relevent_experience', ylabel='count'>"
      ]
     },
     "execution_count": 334,
     "metadata": {},
     "output_type": "execute_result"
    },
    {
     "data": {
      "image/png": "[encoded data removed]",
      "text/plain": [
       "<Figure size 432x288 with 1 Axes>"
      ]
     },
     "metadata": {
      "needs_background": "light"
     },
     "output_type": "display_data"
    }
   ],
   "source": [
    "sns.countplot(train['relevent_experience'],hue=train['target'])"
   ]
  },
  {
   "cell_type": "code",
   "execution_count": 335,
   "metadata": {},
   "outputs": [
    {
     "name": "stdout",
     "output_type": "stream",
     "text": [
      "관련 경험이 있는 경우 데이터 사이언티스트 job 유지 확률 :  78.5310324825986\n",
      "관련 경험이 없는 경우 데이터 사이언티스트 job 유지 확률 :  66.15728661945583\n"
     ]
    }
   ],
   "source": [
    "print('관련 경험이 있는 경우 데이터 사이언티스트 job 유지 확률 : ',len( train[(train['relevent_experience']=='Has relevent experience')&(train['target']==0)] ) / len(train[train['relevent_experience']=='Has relevent experience']) * 100 )\n",
    "print('관련 경험이 없는 경우 데이터 사이언티스트 job 유지 확률 : ',len( train[(train['relevent_experience']=='No relevent experience')&(train['target']==0)] ) / len(train[train['relevent_experience']=='No relevent experience']) * 100 )"
   ]
  },
  {
   "cell_type": "markdown",
   "metadata": {},
   "source": [
    "## \n",
    "- 관련 경험이 있다면 데이터 사이언티스트 job을 유지 할 확률이 높다는 것을 알 수 있다.\n",
    "- 관련 경험이 없는 경우가 바로 다른 job으로 바꾸기 더 수월하지 않을까 추측된다."
   ]
  },
  {
   "cell_type": "code",
   "execution_count": 336,
   "metadata": {},
   "outputs": [],
   "source": [
    "all_data['enrolled_university'] = all_data['enrolled_university'].map({'Full time course':'enrollment',\n",
    "                                     'Part time course':'enrollment', 'no_enrollment':'no_enrollment'\n",
    "                                                                      })\n",
    "train['enrolled_university'] = train['enrolled_university'].map({'Full time course':'enrollment',\n",
    "                                     'Part time course':'enrollment', 'no_enrollment':'no_enrollment'\n",
    "                                                                      })\n"
   ]
  },
  {
   "cell_type": "code",
   "execution_count": 337,
   "metadata": {},
   "outputs": [
    {
     "name": "stderr",
     "output_type": "stream",
     "text": [
      "C:\\Users\\admin\\anaconda3\\lib\\site-packages\\seaborn\\_decorators.py:36: FutureWarning: Pass the following variable as a keyword arg: x. From version 0.12, the only valid positional argument will be `data`, and passing other arguments without an explicit keyword will result in an error or misinterpretation.\n",
      "  warnings.warn(\n"
     ]
    },
    {
     "data": {
      "text/plain": [
       "<AxesSubplot:xlabel='enrolled_university', ylabel='count'>"
      ]
     },
     "execution_count": 337,
     "metadata": {},
     "output_type": "execute_result"
    },
    {
     "data": {
      "image/png": "[encoded data removed]",
      "text/plain": [
       "<Figure size 432x288 with 1 Axes>"
      ]
     },
     "metadata": {
      "needs_background": "light"
     },
     "output_type": "display_data"
    }
   ],
   "source": [
    "sns.countplot(train['enrolled_university'],hue=train['target'])"
   ]
  },
  {
   "cell_type": "code",
   "execution_count": 338,
   "metadata": {},
   "outputs": [
    {
     "name": "stdout",
     "output_type": "stream",
     "text": [
      "대학 코스에 등록한 적이 있는 경우 데이터 사이언티스트 job 유지 확률 :  65.02522704339052\n",
      "대학 코스에 등록한 적이 없는 경우 데이터 사이언티스트 job 유지 확률 :  78.5679081884109\n"
     ]
    }
   ],
   "source": [
    "print('대학 코스에 등록한 적이 있는 경우 데이터 사이언티스트 job 유지 확률 : ',len( train[(train['enrolled_university']=='enrollment')&(train['target']==0)] ) / len(train[train['enrolled_university']=='enrollment']) * 100 )\n",
    "print('대학 코스에 등록한 적이 없는 경우 데이터 사이언티스트 job 유지 확률 : ',len( train[(train['enrolled_university']=='no_enrollment')&(train['target']==0)] ) / len(train[train['enrolled_university']=='no_enrollment']) * 100 )"
   ]
  },
  {
   "cell_type": "markdown",
   "metadata": {},
   "source": [
    "## \n",
    "- 대학 코스에 등록 한 적이 있는 경우가 오히려 데이터 사이언티스트 job을 유지할 확률이 떨어지는 것을 볼 수 있다.\n",
    "- 대학 코스 특성상 실무보다는 이론에 치우쳐져 있고, 높은 수준으로 진행하는 것이 원인이지 않을까 추측된다."
   ]
  },
  {
   "cell_type": "code",
   "execution_count": 339,
   "metadata": {},
   "outputs": [
    {
     "name": "stderr",
     "output_type": "stream",
     "text": [
      "C:\\Users\\admin\\anaconda3\\lib\\site-packages\\seaborn\\_decorators.py:36: FutureWarning: Pass the following variable as a keyword arg: x. From version 0.12, the only valid positional argument will be `data`, and passing other arguments without an explicit keyword will result in an error or misinterpretation.\n",
      "  warnings.warn(\n"
     ]
    },
    {
     "data": {
      "text/plain": [
       "<AxesSubplot:xlabel='education_level', ylabel='count'>"
      ]
     },
     "execution_count": 339,
     "metadata": {},
     "output_type": "execute_result"
    },
    {
     "data": {
      "image/png": "[encoded data removed]",
      "text/plain": [
       "<Figure size 432x288 with 1 Axes>"
      ]
     },
     "metadata": {
      "needs_background": "light"
     },
     "output_type": "display_data"
    }
   ],
   "source": [
    "sns.countplot(train['education_level'],hue=train['target'])"
   ]
  },
  {
   "cell_type": "code",
   "execution_count": 344,
   "metadata": {},
   "outputs": [
    {
     "name": "stdout",
     "output_type": "stream",
     "text": [
      "초등학교 졸업자의 job change 비율 :  13.311688311688311\n",
      "중/고등학교 졸업자의 job change 비율 :  19.533961328706\n",
      "학사 취득자의 job change 비율 :  27.77409188920219\n",
      "석사 취득자의 job change 비율 :  21.440036688832837\n",
      "박사 취득자의 job change 비율 :  14.009661835748794\n"
     ]
    }
   ],
   "source": [
    "print('초등학교 졸업자의 job change 비율 : ', len(train[ (train['education_level']=='Primary School') & (train['target']==1) ] )/len(train[train['education_level']=='Primary School']) * 100 )\n",
    "print('중/고등학교 졸업자의 job change 비율 : ', len(train[ (train['education_level']=='High School') & (train['target']==1) ] )/len(train[train['education_level']=='High School']) * 100 )\n",
    "print('학사 취득자의 job change 비율 : ', len(train[ (train['education_level']=='Graduate') & (train['target']==1) ] )/len(train[train['education_level']=='Graduate']) * 100 )\n",
    "print('석사 취득자의 job change 비율 : ', len(train[ (train['education_level']=='Masters') & (train['target']==1) ] )/len(train[train['education_level']=='Masters']) * 100 )\n",
    "print('박사 취득자의 job change 비율 : ', len(train[ (train['education_level']=='Phd') & (train['target']==1) ] )/len(train[train['education_level']=='Phd']) * 100 )"
   ]
  },
  {
   "cell_type": "markdown",
   "metadata": {},
   "source": [
    "## \n",
    "- 학사 취득자의 job change 확률이 가장 높은 것을 볼 수 있다.\n",
    "- 초등학교 졸업자라면 오히려 job을 일찍 잡아 오랜 경험을 쌓은 현재 job을 유지하지 않을까 추측된다.\n",
    "- 대학 졸업 수준(학사 취득)이라면 오히려 전공에 구애받지 않고 다양한 job을 탐색해보고 구하는 것이 원인이지 않을까 추측된다.\n",
    "- 그러나 다시 학부 수준을 넘어 석사, 박사를 취득할수록 전문성이 매우 높아져 관련 job을 유지하려 하지 않을까 추측된다."
   ]
  },
  {
   "cell_type": "code",
   "execution_count": 345,
   "metadata": {},
   "outputs": [
    {
     "name": "stderr",
     "output_type": "stream",
     "text": [
      "C:\\Users\\admin\\anaconda3\\lib\\site-packages\\seaborn\\_decorators.py:36: FutureWarning: Pass the following variable as a keyword arg: x. From version 0.12, the only valid positional argument will be `data`, and passing other arguments without an explicit keyword will result in an error or misinterpretation.\n",
      "  warnings.warn(\n"
     ]
    },
    {
     "data": {
      "text/plain": [
       "<AxesSubplot:xlabel='major_discipline', ylabel='count'>"
      ]
     },
     "execution_count": 345,
     "metadata": {},
     "output_type": "execute_result"
    },
    {
     "data": {
      "image/png": "[encoded data removed]",
      "text/plain": [
       "<Figure size 432x288 with 1 Axes>"
      ]
     },
     "metadata": {
      "needs_background": "light"
     },
     "output_type": "display_data"
    }
   ],
   "source": [
    "sns.countplot(train['major_discipline'],hue=train['target'])"
   ]
  },
  {
   "cell_type": "code",
   "execution_count": 346,
   "metadata": {},
   "outputs": [
    {
     "name": "stdout",
     "output_type": "stream",
     "text": [
      "STEM(이과) 전공의 job change 비율 :  25.079456804391793\n",
      "경영학 전공의 job change 비율 :  26.299694189602445\n",
      "예술 전공의 job change 비율 :  20.948616600790515\n",
      "인문학 전공의 job change 비율 :  21.076233183856502\n",
      "기타 다른 전공의 job change 비율 :  26.77165354330709\n",
      "전공이 없는 사람의 job change 비율 :  24.663677130044842\n"
     ]
    }
   ],
   "source": [
    "print('STEM(이과) 전공의 job change 비율 : ', len(train[ (train['major_discipline']=='STEM') & (train['target']==1) ] )/len(train[train['major_discipline']=='STEM']) * 100 )\n",
    "print('경영학 전공의 job change 비율 : ', len(train[ (train['major_discipline']=='Business Degree') & (train['target']==1) ] )/len(train[train['major_discipline']=='Business Degree']) * 100 )\n",
    "print('예술 전공의 job change 비율 : ', len(train[ (train['major_discipline']=='Arts') & (train['target']==1) ] )/len(train[train['major_discipline']=='Arts']) * 100 )\n",
    "print('인문학 전공의 job change 비율 : ', len(train[ (train['major_discipline']=='Humanities') & (train['target']==1) ] )/len(train[train['major_discipline']=='Humanities']) * 100 )\n",
    "print('기타 다른 전공의 job change 비율 : ', len(train[ (train['major_discipline']=='Other') & (train['target']==1) ] )/len(train[train['major_discipline']=='Other']) * 100 )\n",
    "print('전공이 없는 사람의 job change 비율 : ', len(train[ (train['major_discipline']=='No Major') & (train['target']==1) ] )/len(train[train['major_discipline']=='No Major']) * 100 )"
   ]
  },
  {
   "cell_type": "markdown",
   "metadata": {},
   "source": [
    "## 원인불명\n",
    "- 예술, 인문학 전공의 사람들이 오히려 데이터 사이언티스트 job을 유지하는 비율이 높은 것을 볼 수 있다."
   ]
  },
  {
   "cell_type": "code",
   "execution_count": 349,
   "metadata": {},
   "outputs": [
    {
     "name": "stderr",
     "output_type": "stream",
     "text": [
      "C:\\Users\\admin\\anaconda3\\lib\\site-packages\\seaborn\\_decorators.py:36: FutureWarning: Pass the following variable as a keyword arg: x. From version 0.12, the only valid positional argument will be `data`, and passing other arguments without an explicit keyword will result in an error or misinterpretation.\n",
      "  warnings.warn(\n"
     ]
    },
    {
     "data": {
      "text/plain": [
       "<AxesSubplot:xlabel='experience', ylabel='count'>"
      ]
     },
     "execution_count": 349,
     "metadata": {},
     "output_type": "execute_result"
    },
    {
     "data": {
      "image/png": "[encoded data removed]",
      "text/plain": [
       "<Figure size 936x360 with 1 Axes>"
      ]
     },
     "metadata": {
      "needs_background": "light"
     },
     "output_type": "display_data"
    }
   ],
   "source": [
    "plt.figure(figsize=(13,5))\n",
    "sns.countplot(train['experience'])"
   ]
  },
  {
   "cell_type": "code",
   "execution_count": 351,
   "metadata": {},
   "outputs": [],
   "source": [
    "def mapping_experience(value):\n",
    "    if value in ['<1','1','2','3','4','5']:\n",
    "        return '0 ~ 5'\n",
    "    if value in ['6','7','8','9','10']:\n",
    "        return '6 ~ 10'\n",
    "    if value in ['11','12','13','14','15']:\n",
    "        return '11 ~ 15'\n",
    "    if value in ['16','17','18','19','20']:\n",
    "        return '16 ~ 20'\n",
    "    else:\n",
    "        return '20 ~'"
   ]
  },
  {
   "cell_type": "code",
   "execution_count": 352,
   "metadata": {},
   "outputs": [],
   "source": [
    "train['experience'] = train['experience'].map(mapping_experience)"
   ]
  },
  {
   "cell_type": "code",
   "execution_count": 364,
   "metadata": {},
   "outputs": [
    {
     "name": "stderr",
     "output_type": "stream",
     "text": [
      "C:\\Users\\admin\\anaconda3\\lib\\site-packages\\seaborn\\_decorators.py:36: FutureWarning: Pass the following variable as a keyword arg: x. From version 0.12, the only valid positional argument will be `data`, and passing other arguments without an explicit keyword will result in an error or misinterpretation.\n",
      "  warnings.warn(\n"
     ]
    },
    {
     "data": {
      "text/plain": [
       "<AxesSubplot:xlabel='experience', ylabel='count'>"
      ]
     },
     "execution_count": 364,
     "metadata": {},
     "output_type": "execute_result"
    },
    {
     "data": {
      "image/png": "[encoded data removed]",
      "text/plain": [
       "<Figure size 432x288 with 1 Axes>"
      ]
     },
     "metadata": {
      "needs_background": "light"
     },
     "output_type": "display_data"
    }
   ],
   "source": [
    "sns.countplot(train['experience'],hue=train['target'])"
   ]
  },
  {
   "cell_type": "code",
   "execution_count": 366,
   "metadata": {},
   "outputs": [
    {
     "name": "stdout",
     "output_type": "stream",
     "text": [
      "0 ~ 5년 경력자들의 job change 비율 :  34.325581395348834\n",
      "6 ~ 10년 경력자들의 job change 비율 :  25.16463779684694\n",
      "11 ~ 15년 경력자들의 job change 비율 :  19.123365146694944\n",
      "16 ~ 20년 경력자들의 job change 비율 :  16.308470290771176\n",
      "20년 이상 경력자들의 job change 비율 :  15.307364576993304\n"
     ]
    }
   ],
   "source": [
    "print('0 ~ 5년 경력자들의 job change 비율 : ', len(train[ (train['experience']=='0 ~ 5') & (train['target']==1) ] )/len(train[train['experience']=='0 ~ 5']) * 100 )\n",
    "print('6 ~ 10년 경력자들의 job change 비율 : ', len(train[ (train['experience']=='6 ~ 10') & (train['target']==1) ] )/len(train[train['experience']=='6 ~ 10']) * 100 )\n",
    "print('11 ~ 15년 경력자들의 job change 비율 : ', len(train[ (train['experience']=='11 ~ 15') & (train['target']==1) ] )/len(train[train['experience']=='11 ~ 15']) * 100 )\n",
    "print('16 ~ 20년 경력자들의 job change 비율 : ', len(train[ (train['experience']=='16 ~ 20') & (train['target']==1) ] )/len(train[train['experience']=='16 ~ 20']) * 100 )\n",
    "print('20년 이상 경력자들의 job change 비율 : ', len(train[ (train['experience']=='20 ~') & (train['target']==1) ] )/len(train[train['experience']=='20 ~']) * 100 )"
   ]
  },
  {
   "cell_type": "markdown",
   "metadata": {},
   "source": [
    "## \n",
    "- 경력이 오래 될수록 데이터 사이언티스트 job을 유지하는 비율이 높은 것을 알 수 있다.\n",
    "- 경력이 오래 됐다면, 그만큼 다른 분야의 새로운 job으로 바꾸기가 쉽지 않은 것이 원인으로 추측된다."
   ]
  },
  {
   "cell_type": "code",
   "execution_count": 368,
   "metadata": {},
   "outputs": [
    {
     "name": "stderr",
     "output_type": "stream",
     "text": [
      "C:\\Users\\admin\\anaconda3\\lib\\site-packages\\seaborn\\_decorators.py:36: FutureWarning: Pass the following variable as a keyword arg: x. From version 0.12, the only valid positional argument will be `data`, and passing other arguments without an explicit keyword will result in an error or misinterpretation.\n",
      "  warnings.warn(\n"
     ]
    },
    {
     "data": {
      "text/plain": [
       "<AxesSubplot:xlabel='company_size', ylabel='count'>"
      ]
     },
     "execution_count": 368,
     "metadata": {},
     "output_type": "execute_result"
    },
    {
     "data": {
      "image/png": "[encoded data removed]",
      "text/plain": [
       "<Figure size 720x360 with 1 Axes>"
      ]
     },
     "metadata": {
      "needs_background": "light"
     },
     "output_type": "display_data"
    }
   ],
   "source": [
    "plt.figure(figsize=(10,5))\n",
    "sns.countplot(train['company_size'])"
   ]
  },
  {
   "cell_type": "code",
   "execution_count": 370,
   "metadata": {},
   "outputs": [],
   "source": [
    "def mapping_company_size(value):\n",
    "    if value in ['50-99','<10','10/49']:\n",
    "        return '1 ~ 99'\n",
    "    if value in ['100-500','500-999']:\n",
    "        return '100 ~ 999'\n",
    "    if value in ['1000-4999','5000-9999']:\n",
    "        return '1000 ~ 9999'\n",
    "    if value == '10000+':\n",
    "        return '10000 ~'\n",
    "    else:\n",
    "        return 'None'"
   ]
  },
  {
   "cell_type": "code",
   "execution_count": 371,
   "metadata": {},
   "outputs": [],
   "source": [
    "train['company_size'] = train['company_size'].map(mapping_company_size)"
   ]
  },
  {
   "cell_type": "code",
   "execution_count": 372,
   "metadata": {},
   "outputs": [
    {
     "name": "stderr",
     "output_type": "stream",
     "text": [
      "C:\\Users\\admin\\anaconda3\\lib\\site-packages\\seaborn\\_decorators.py:36: FutureWarning: Pass the following variable as a keyword arg: x. From version 0.12, the only valid positional argument will be `data`, and passing other arguments without an explicit keyword will result in an error or misinterpretation.\n",
      "  warnings.warn(\n"
     ]
    },
    {
     "data": {
      "text/plain": [
       "<AxesSubplot:xlabel='company_size', ylabel='count'>"
      ]
     },
     "execution_count": 372,
     "metadata": {},
     "output_type": "execute_result"
    },
    {
     "data": {
      "image/png": "[encoded data removed]",
      "text/plain": [
       "<Figure size 432x288 with 1 Axes>"
      ]
     },
     "metadata": {
      "needs_background": "light"
     },
     "output_type": "display_data"
    }
   ],
   "source": [
    "sns.countplot(train['company_size'])"
   ]
  },
  {
   "cell_type": "code",
   "execution_count": 373,
   "metadata": {},
   "outputs": [
    {
     "name": "stdout",
     "output_type": "stream",
     "text": [
      "현재 다니는 회사가 없는 사람들의 job change 비율 :  40.58605591108117\n",
      "1 ~ 99명 규모의 회사에 다니는 사람들의 job change 비율 :  18.986693961105424\n",
      "100 ~ 999명 규모의 회사에 다니는 사람들의 job change 비율 :  16.444315545243622\n",
      "1000 ~ 9999명 규모의 회사에 다니는 사람들의 job change 비율 :  15.970386039132734\n",
      "10000명 이상 규모의 회사에 다니는 사람들의 job change 비율 :  19.068845963348192\n"
     ]
    }
   ],
   "source": [
    "print('현재 다니는 회사가 없는 사람들의 job change 비율 : ', len(train[ (train['company_size']=='None') & (train['target']==1) ] )/len(train[train['company_size']=='None']) * 100 )\n",
    "print('1 ~ 99명 규모의 회사에 다니는 사람들의 job change 비율 : ', len(train[ (train['company_size']=='1 ~ 99') & (train['target']==1) ] )/len(train[train['company_size']=='1 ~ 99']) * 100 )\n",
    "print('100 ~ 999명 규모의 회사에 다니는 사람들의 job change 비율 : ', len(train[ (train['company_size']=='100 ~ 999') & (train['target']==1) ] )/len(train[train['company_size']=='100 ~ 999']) * 100 )\n",
    "print('1000 ~ 9999명 규모의 회사에 다니는 사람들의 job change 비율 : ', len(train[ (train['company_size']=='1000 ~ 9999') & (train['target']==1) ] )/len(train[train['company_size']=='1000 ~ 9999']) * 100 )\n",
    "print('10000명 이상 규모의 회사에 다니는 사람들의 job change 비율 : ', len(train[ (train['company_size']=='10000 ~') & (train['target']==1) ] )/len(train[train['company_size']=='10000 ~']) * 100 )"
   ]
  },
  {
   "cell_type": "markdown",
   "metadata": {},
   "source": [
    "## \n",
    "- 현재 다니는 회사가 없는 지원자의 경우 다른 job으로 change하는 비율이 높은 것을 볼 수 있다.\n",
    "- 현재 다니는 회사가 없다면 그만큼 새로운 job으로 쉽게 바꿀 수 있지 않을까 추측된다.\n",
    "- 회사의 규모가 클수록 현재 job을 유지하려 할 것이지만, 오히려 만명 규모 이상의 대기업에서는 심한 경쟁과 과도한 업무로 인해 job change 비율이 늘어나지 않았을까 추측된다. "
   ]
  },
  {
   "cell_type": "code",
   "execution_count": 378,
   "metadata": {},
   "outputs": [
    {
     "name": "stderr",
     "output_type": "stream",
     "text": [
      "C:\\Users\\admin\\anaconda3\\lib\\site-packages\\seaborn\\_decorators.py:36: FutureWarning: Pass the following variable as a keyword arg: x. From version 0.12, the only valid positional argument will be `data`, and passing other arguments without an explicit keyword will result in an error or misinterpretation.\n",
      "  warnings.warn(\n"
     ]
    },
    {
     "data": {
      "text/plain": [
       "<AxesSubplot:xlabel='company_type', ylabel='count'>"
      ]
     },
     "execution_count": 378,
     "metadata": {},
     "output_type": "execute_result"
    },
    {
     "data": {
      "image/png": "[encoded data removed]",
      "text/plain": [
       "<Figure size 936x216 with 1 Axes>"
      ]
     },
     "metadata": {
      "needs_background": "light"
     },
     "output_type": "display_data"
    }
   ],
   "source": [
    "plt.figure(figsize=(13,3))\n",
    "sns.countplot(train['company_type'])"
   ]
  },
  {
   "cell_type": "code",
   "execution_count": 379,
   "metadata": {},
   "outputs": [],
   "source": [
    "def mapping_company_type(value):\n",
    "    if value in ['Funded Startup','Early Stage Startup']:\n",
    "        return 'Startup'\n",
    "    if value == 'Other':\n",
    "        return 'Pvt Ltd'\n",
    "    else:\n",
    "        return value"
   ]
  },
  {
   "cell_type": "code",
   "execution_count": 380,
   "metadata": {},
   "outputs": [
    {
     "name": "stderr",
     "output_type": "stream",
     "text": [
      "C:\\Users\\admin\\anaconda3\\lib\\site-packages\\seaborn\\_decorators.py:36: FutureWarning: Pass the following variable as a keyword arg: x. From version 0.12, the only valid positional argument will be `data`, and passing other arguments without an explicit keyword will result in an error or misinterpretation.\n",
      "  warnings.warn(\n"
     ]
    },
    {
     "data": {
      "text/plain": [
       "<AxesSubplot:xlabel='company_type', ylabel='count'>"
      ]
     },
     "execution_count": 380,
     "metadata": {},
     "output_type": "execute_result"
    },
    {
     "data": {
      "image/png": "[encoded data removed]",
      "text/plain": [
       "<Figure size 432x288 with 1 Axes>"
      ]
     },
     "metadata": {
      "needs_background": "light"
     },
     "output_type": "display_data"
    }
   ],
   "source": [
    "train['company_type'] = train['company_type'].map(mapping_company_type)\n",
    "sns.countplot(train['company_type'])"
   ]
  },
  {
   "cell_type": "code",
   "execution_count": 381,
   "metadata": {},
   "outputs": [
    {
     "name": "stdout",
     "output_type": "stream",
     "text": [
      "현재 다니는 회사가 없는 사람들의 job change 비율 :  38.82736156351791\n",
      "개인 회사에 다니는 사람들의 job change 비율 :  18.15254578385993\n",
      "스타트업 회사에 다니는 사람들의 job change 비율 :  17.581047381546135\n",
      "공공기업에 다니는 사람들의 job change 비율 :  21.98952879581152\n",
      "NGO 기업에 다니는 사람들의 job change 비율 :  18.618042226487525\n"
     ]
    }
   ],
   "source": [
    "print('현재 다니는 회사가 없는 사람들의 job change 비율 : ', len(train[ (train['company_type']=='None') & (train['target']==1) ] )/len(train[train['company_type']=='None']) * 100 )\n",
    "print('개인 회사에 다니는 사람들의 job change 비율 : ', len(train[ (train['company_type']=='Pvt Ltd') & (train['target']==1) ] )/len(train[train['company_type']=='Pvt Ltd']) * 100 )\n",
    "print('스타트업 회사에 다니는 사람들의 job change 비율 : ', len(train[ (train['company_type']=='Startup') & (train['target']==1) ] )/len(train[train['company_type']=='Startup']) * 100 )\n",
    "print('공공기업에 다니는 사람들의 job change 비율 : ', len(train[ (train['company_type']=='Public Sector') & (train['target']==1) ] )/len(train[train['company_type']=='Public Sector']) * 100 )\n",
    "print('NGO 기업에 다니는 사람들의 job change 비율 : ', len(train[ (train['company_type']=='NGO') & (train['target']==1) ] )/len(train[train['company_type']=='NGO']) * 100 )"
   ]
  },
  {
   "cell_type": "markdown",
   "metadata": {},
   "source": [
    "## \n",
    "- 현재 다니는 회사가 없는 지원자들의 job change 비율이 높은 것을 볼 수 있다.\n",
    "- 공공기업에 다니는 지원자들의 job change 비율이 높은 것을 볼 수 있다.\n",
    "- 마찬가지로 현재 다니는 회사가 없다면 쉽게 새로운 job으로 change하기 용이할 것이다.\n",
    "- 공공기업의 특성상 다른 사기업들에 비해 연봉이나 근무환경이 좋지 않은 경우가 많은 것이 job change 비율이 높은 원인이지 않을까 추측된다."
   ]
  },
  {
   "cell_type": "code",
   "execution_count": 382,
   "metadata": {},
   "outputs": [
    {
     "name": "stderr",
     "output_type": "stream",
     "text": [
      "C:\\Users\\admin\\anaconda3\\lib\\site-packages\\seaborn\\_decorators.py:36: FutureWarning: Pass the following variable as a keyword arg: x. From version 0.12, the only valid positional argument will be `data`, and passing other arguments without an explicit keyword will result in an error or misinterpretation.\n",
      "  warnings.warn(\n"
     ]
    },
    {
     "data": {
      "text/plain": [
       "<AxesSubplot:xlabel='last_new_job', ylabel='count'>"
      ]
     },
     "execution_count": 382,
     "metadata": {},
     "output_type": "execute_result"
    },
    {
     "data": {
      "image/png": "[encoded data removed]",
      "text/plain": [
       "<Figure size 432x288 with 1 Axes>"
      ]
     },
     "metadata": {
      "needs_background": "light"
     },
     "output_type": "display_data"
    }
   ],
   "source": [
    "sns.countplot(train['last_new_job'])"
   ]
  },
  {
   "cell_type": "code",
   "execution_count": 384,
   "metadata": {},
   "outputs": [],
   "source": [
    "def mapping_last_new_job(value):\n",
    "    if value in ['2','3','4','>4']:\n",
    "        return '2 ~'\n",
    "    else:\n",
    "        return value"
   ]
  },
  {
   "cell_type": "code",
   "execution_count": 385,
   "metadata": {},
   "outputs": [
    {
     "name": "stderr",
     "output_type": "stream",
     "text": [
      "C:\\Users\\admin\\anaconda3\\lib\\site-packages\\seaborn\\_decorators.py:36: FutureWarning: Pass the following variable as a keyword arg: x. From version 0.12, the only valid positional argument will be `data`, and passing other arguments without an explicit keyword will result in an error or misinterpretation.\n",
      "  warnings.warn(\n"
     ]
    },
    {
     "data": {
      "text/plain": [
       "<AxesSubplot:xlabel='last_new_job', ylabel='count'>"
      ]
     },
     "execution_count": 385,
     "metadata": {},
     "output_type": "execute_result"
    },
    {
     "data": {
      "image/png": "[encoded data removed]",
      "text/plain": [
       "<Figure size 432x288 with 1 Axes>"
      ]
     },
     "metadata": {
      "needs_background": "light"
     },
     "output_type": "display_data"
    }
   ],
   "source": [
    "train['last_new_job'] = train['last_new_job'].map(mapping_last_new_job)\n",
    "sns.countplot(train['last_new_job'])"
   ]
  },
  {
   "cell_type": "code",
   "execution_count": 386,
   "metadata": {},
   "outputs": [
    {
     "name": "stdout",
     "output_type": "stream",
     "text": [
      "현재까지 job을 바꾼적이 없는 사람들의 job change 비율 :  30.138662316476346\n",
      "바꾼 후 현재 job을 1년째 유지하고 있는 사람들의 job change 비율 :  26.92898499350112\n",
      "바꾼 후 현재 job을 2년 이상 유지하고 있는 사람들의 job change 비율 :  21.339318209389784\n"
     ]
    }
   ],
   "source": [
    "print('현재까지 job을 바꾼적이 없는 사람들의 job change 비율 : ', len(train[ (train['last_new_job']=='never') & (train['target']==1) ] )/len(train[train['last_new_job']=='never']) * 100 )\n",
    "print('바꾼 후 현재 job을 1년째 유지하고 있는 사람들의 job change 비율 : ', len(train[ (train['last_new_job']=='1') & (train['target']==1) ] )/len(train[train['last_new_job']=='1']) * 100 )\n",
    "print('바꾼 후 현재 job을 2년 이상 유지하고 있는 사람들의 job change 비율 : ', len(train[ (train['last_new_job']=='2 ~') & (train['target']==1) ] )/len(train[train['last_new_job']=='2 ~']) * 100 )"
   ]
  },
  {
   "cell_type": "markdown",
   "metadata": {},
   "source": [
    "## \n",
    "- job change를 해본 적 없는 지원자들이 오히려 job change하는 비율이 높은 것으로 나타난다.\n",
    "- 새로운 job을 가져본 적이 없다면 오히려 한번쯤은 새로운 job을 가져보려는 경향이 있지 않을까 추측된다. \n",
    "- job change한지 얼마 되지 않은(1년 이하) 지원자들이 다시 job change 하는 비율이 높은 것으로 나타난다.\n",
    "- 현재 job으로 일한지 얼마 되지 않았다면 그만큼 다른 새로운 job으로 change하는 부담이 상대적으로 덜 한것이 원인으로 추측된다."
   ]
  },
  {
   "cell_type": "code",
   "execution_count": 388,
   "metadata": {},
   "outputs": [
    {
     "name": "stderr",
     "output_type": "stream",
     "text": [
      "C:\\Users\\admin\\anaconda3\\lib\\site-packages\\seaborn\\distributions.py:2551: FutureWarning: `distplot` is a deprecated function and will be removed in a future version. Please adapt your code to use either `displot` (a figure-level function with similar flexibility) or `histplot` (an axes-level function for histograms).\n",
      "  warnings.warn(msg, FutureWarning)\n"
     ]
    },
    {
     "data": {
      "text/plain": [
       "<AxesSubplot:xlabel='training_hours', ylabel='Density'>"
      ]
     },
     "execution_count": 388,
     "metadata": {},
     "output_type": "execute_result"
    },
    {
     "data": {
      "image/png": "[encoded data removed]",
      "text/plain": [
       "<Figure size 432x288 with 1 Axes>"
      ]
     },
     "metadata": {
      "needs_background": "light"
     },
     "output_type": "display_data"
    }
   ],
   "source": [
    "sns.distplot(train['training_hours'])"
   ]
  },
  {
   "cell_type": "code",
   "execution_count": 389,
   "metadata": {},
   "outputs": [
    {
     "data": {
      "text/plain": [
       "<AxesSubplot:xlabel='target', ylabel='training_hours'>"
      ]
     },
     "execution_count": 389,
     "metadata": {},
     "output_type": "execute_result"
    },
    {
     "data": {
      "image/png": "[encoded data removed]",
      "text/plain": [
       "<Figure size 432x288 with 1 Axes>"
      ]
     },
     "metadata": {
      "needs_background": "light"
     },
     "output_type": "display_data"
    }
   ],
   "source": [
    "sns.boxplot(x=train['target'],y=train['training_hours'])"
   ]
  },
  {
   "cell_type": "markdown",
   "metadata": {},
   "source": [
    "## \n",
    "- 타겟별 training_hours의 분포가 거의 같은 것으로 보아, 완수한 훈련 시간은 job change에 영향력이 없는 것으로 판단된다."
   ]
  },
  {
   "cell_type": "markdown",
   "metadata": {},
   "source": [
    "# 타겟 예측을 위한 최종 Feature Selection\n",
    "- city_development_index\n",
    "- relevent_experience\n",
    "- enrolled_university\n",
    "- education_level\n",
    "- major_discipline\n",
    "- experience\n",
    "- company_size\n",
    "- company_type\n",
    "- last_new_job"
   ]
  }
 ],
 "metadata": {
  "kernelspec": {
   "display_name": "Python 3",
   "language": "python",
   "name": "python3"
  },
  "language_info": {
   "codemirror_mode": {
    "name": "ipython",
    "version": 3
   },
   "file_extension": ".py",
   "mimetype": "text/x-python",
   "name": "python",
   "nbconvert_exporter": "python",
   "pygments_lexer": "ipython3",
   "version": "3.8.5"
  },
  "toc": {
   "base_numbering": 1,
   "nav_menu": {},
   "number_sections": true,
   "sideBar": true,
   "skip_h1_title": false,
   "title_cell": "Table of Contents",
   "title_sidebar": "Contents",
   "toc_cell": false,
   "toc_position": {
    "height": "584.8px",
    "left": "694px",
    "top": "238.267px",
    "width": "273.167px"
   },
   "toc_section_display": true,
   "toc_window_display": true
  }
 },
 "nbformat": 4,
 "nbformat_minor": 4
}
