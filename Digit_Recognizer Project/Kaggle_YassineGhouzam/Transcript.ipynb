{
 "cells": [
  {
   "cell_type": "code",
   "execution_count": 47,
   "metadata": {},
   "outputs": [],
   "source": [
    "import pandas as pd\n",
    "import numpy as np\n",
    "import seaborn as sns\n",
    "import matplotlib.pyplot as plt\n",
    "\n",
    "import matplotlib.image as mpimg\n",
    "from sklearn.model_selection import train_test_split\n",
    "from sklearn.metrics import confusion_matrix\n",
    "\n",
    "from keras.utils.np_utils import to_categorical\n",
    "from keras.models import Sequential\n",
    "from keras.layers import Conv2D, MaxPool2D, Flatten, Dense, Dropout\n",
    "from keras.optimizers import RMSprop\n",
    "from keras.preprocessing.image import ImageDataGenerator\n",
    "from keras.callbacks import ReduceLROnPlateau"
   ]
  },
  {
   "cell_type": "code",
   "execution_count": 48,
   "metadata": {},
   "outputs": [],
   "source": [
    "train = pd.read_csv('train.csv')\n",
    "test = pd.read_csv('test.csv')"
   ]
  },
  {
   "cell_type": "code",
   "execution_count": 49,
   "metadata": {},
   "outputs": [],
   "source": [
    "x_train = train.drop('label',axis=1)\n",
    "y_train = train['label']"
   ]
  },
  {
   "cell_type": "code",
   "execution_count": 50,
   "metadata": {},
   "outputs": [
    {
     "data": {
      "text/plain": [
       "1    4684\n",
       "7    4401\n",
       "3    4351\n",
       "9    4188\n",
       "2    4177\n",
       "6    4137\n",
       "0    4132\n",
       "4    4072\n",
       "8    4063\n",
       "5    3795\n",
       "Name: label, dtype: int64"
      ]
     },
     "execution_count": 50,
     "metadata": {},
     "output_type": "execute_result"
    }
   ],
   "source": [
    "y_train.value_counts()"
   ]
  },
  {
   "cell_type": "code",
   "execution_count": 51,
   "metadata": {},
   "outputs": [],
   "source": [
    "x_train = x_train / 255 \n",
    "test = test / 255"
   ]
  },
  {
   "cell_type": "code",
   "execution_count": 52,
   "metadata": {},
   "outputs": [],
   "source": [
    "x_train = x_train.values.reshape(-1,28,28,1)\n",
    "test = test.values.reshape(-1,28,28,1)"
   ]
  },
  {
   "cell_type": "code",
   "execution_count": 53,
   "metadata": {},
   "outputs": [],
   "source": [
    "y_train = to_categorical(y_train,num_classes=10)"
   ]
  },
  {
   "cell_type": "code",
   "execution_count": 54,
   "metadata": {},
   "outputs": [],
   "source": [
    "x_train, x_val, y_train, y_val = train_test_split(x_train,y_train,test_size=0.1,random_state = 42)"
   ]
  },
  {
   "cell_type": "code",
   "execution_count": 55,
   "metadata": {},
   "outputs": [],
   "source": [
    "#plt.imshow(x_train[0])"
   ]
  },
  {
   "cell_type": "code",
   "execution_count": 56,
   "metadata": {},
   "outputs": [],
   "source": [
    "model = Sequential()\n",
    "\n",
    "model.add(Conv2D(filters=32, kernel_size=(5,5), padding='Same', activation='relu', input_shape=(28,28,1)))\n",
    "model.add(Conv2D(filters=32, kernel_size=(5,5), padding='Same', activation='relu'))\n",
    "model.add(MaxPool2D(pool_size=(2,2)))\n",
    "model.add(Dropout(0.25))\n",
    "\n",
    "model.add(Conv2D(filters=64, kernel_size=(3,3), padding='Same', activation='relu'))\n",
    "model.add(Conv2D(filters=64, kernel_size=(3,3), padding='Same', activation='relu'))\n",
    "model.add(MaxPool2D(pool_size=(2,2), strides=(2,2)))\n",
    "model.add(Dropout(0.25))\n",
    "\n",
    "model.add(Flatten())\n",
    "model.add(Dense(256,activation='relu'))\n",
    "model.add(Dropout(0.5))\n",
    "model.add(Dense(10,activation='softmax'))"
   ]
  },
  {
   "cell_type": "code",
   "execution_count": 57,
   "metadata": {},
   "outputs": [],
   "source": [
    "optimizer = RMSprop(lr=0.001, rho=0.9, epsilon=1e-08,decay=0)"
   ]
  },
  {
   "cell_type": "code",
   "execution_count": 58,
   "metadata": {},
   "outputs": [],
   "source": [
    "model.compile(optimizer=optimizer, loss='categorical_crossentropy', metrics=['accuracy'] )"
   ]
  },
  {
   "cell_type": "code",
   "execution_count": 59,
   "metadata": {},
   "outputs": [],
   "source": [
    "lr_reduction = ReduceLROnPlateau(monitor='val_acc',\n",
    "    factor=0.5,\n",
    "    patience=3,\n",
    "    verbose=1,\n",
    "    min_lr=0.00001)"
   ]
  },
  {
   "cell_type": "code",
   "execution_count": 60,
   "metadata": {},
   "outputs": [],
   "source": [
    "epochs = 40\n",
    "batch_size = 86"
   ]
  },
  {
   "cell_type": "code",
   "execution_count": 61,
   "metadata": {},
   "outputs": [],
   "source": [
    "generator = ImageDataGenerator(featurewise_center=False,  # set input mean to 0 over the dataset\n",
    "        samplewise_center=False,  # set each sample mean to 0\n",
    "        featurewise_std_normalization=False,  # divide inputs by std of the dataset\n",
    "        samplewise_std_normalization=False,  # divide each input by its std\n",
    "        zca_whitening=False,  # apply ZCA whitening\n",
    "        rotation_range=10,  # randomly rotate images in the range (degrees, 0 to 180)\n",
    "        zoom_range = 0.1, # Randomly zoom image \n",
    "        width_shift_range=0.1,  # randomly shift images horizontally (fraction of total width)\n",
    "        height_shift_range=0.1,  # randomly shift images vertically (fraction of total height)\n",
    "        horizontal_flip=False,  # randomly flip images\n",
    "        vertical_flip=False)\n",
    "\n",
    "generator.fit(x_train)"
   ]
  },
  {
   "cell_type": "code",
   "execution_count": 69,
   "metadata": {},
   "outputs": [
    {
     "name": "stderr",
     "output_type": "stream",
     "text": [
      "C:\\Users\\admin\\anaconda3\\lib\\site-packages\\tensorflow\\python\\keras\\engine\\training.py:1844: UserWarning: `Model.fit_generator` is deprecated and will be removed in a future version. Please use `Model.fit`, which supports generators.\n",
      "  warnings.warn('`Model.fit_generator` is deprecated and '\n"
     ]
    },
    {
     "name": "stdout",
     "output_type": "stream",
     "text": [
      "Epoch 1/40\n",
      "439/439 - 150s - loss: 0.0953 - accuracy: 0.9709 - val_loss: 0.0321 - val_accuracy: 0.9883\n",
      "WARNING:tensorflow:Learning rate reduction is conditioned on metric `val_acc` which is not available. Available metrics are: loss,accuracy,val_loss,val_accuracy,lr\n",
      "Epoch 2/40\n",
      "439/439 - 149s - loss: 0.0776 - accuracy: 0.9765 - val_loss: 0.0383 - val_accuracy: 0.9890\n",
      "WARNING:tensorflow:Learning rate reduction is conditioned on metric `val_acc` which is not available. Available metrics are: loss,accuracy,val_loss,val_accuracy,lr\n",
      "Epoch 3/40\n",
      "439/439 - 134s - loss: 0.0716 - accuracy: 0.9793 - val_loss: 0.0308 - val_accuracy: 0.9907\n",
      "WARNING:tensorflow:Learning rate reduction is conditioned on metric `val_acc` which is not available. Available metrics are: loss,accuracy,val_loss,val_accuracy,lr\n",
      "Epoch 4/40\n",
      "439/439 - 139s - loss: 0.0672 - accuracy: 0.9806 - val_loss: 0.0270 - val_accuracy: 0.9912\n",
      "WARNING:tensorflow:Learning rate reduction is conditioned on metric `val_acc` which is not available. Available metrics are: loss,accuracy,val_loss,val_accuracy,lr\n",
      "Epoch 5/40\n",
      "439/439 - 139s - loss: 0.0644 - accuracy: 0.9807 - val_loss: 0.0276 - val_accuracy: 0.9917\n",
      "WARNING:tensorflow:Learning rate reduction is conditioned on metric `val_acc` which is not available. Available metrics are: loss,accuracy,val_loss,val_accuracy,lr\n",
      "Epoch 6/40\n",
      "439/439 - 140s - loss: 0.0614 - accuracy: 0.9832 - val_loss: 0.0305 - val_accuracy: 0.9902\n",
      "WARNING:tensorflow:Learning rate reduction is conditioned on metric `val_acc` which is not available. Available metrics are: loss,accuracy,val_loss,val_accuracy,lr\n",
      "Epoch 7/40\n",
      "439/439 - 143s - loss: 0.0583 - accuracy: 0.9830 - val_loss: 0.0278 - val_accuracy: 0.9898\n",
      "WARNING:tensorflow:Learning rate reduction is conditioned on metric `val_acc` which is not available. Available metrics are: loss,accuracy,val_loss,val_accuracy,lr\n",
      "Epoch 8/40\n",
      "439/439 - 138s - loss: 0.0603 - accuracy: 0.9825 - val_loss: 0.0323 - val_accuracy: 0.9910\n",
      "WARNING:tensorflow:Learning rate reduction is conditioned on metric `val_acc` which is not available. Available metrics are: loss,accuracy,val_loss,val_accuracy,lr\n",
      "Epoch 9/40\n",
      "439/439 - 139s - loss: 0.0621 - accuracy: 0.9833 - val_loss: 0.0396 - val_accuracy: 0.9898\n",
      "WARNING:tensorflow:Learning rate reduction is conditioned on metric `val_acc` which is not available. Available metrics are: loss,accuracy,val_loss,val_accuracy,lr\n",
      "Epoch 10/40\n",
      "439/439 - 140s - loss: 0.0600 - accuracy: 0.9841 - val_loss: 0.0296 - val_accuracy: 0.9912\n",
      "WARNING:tensorflow:Learning rate reduction is conditioned on metric `val_acc` which is not available. Available metrics are: loss,accuracy,val_loss,val_accuracy,lr\n",
      "Epoch 11/40\n",
      "439/439 - 140s - loss: 0.0569 - accuracy: 0.9839 - val_loss: 0.0304 - val_accuracy: 0.9917\n",
      "WARNING:tensorflow:Learning rate reduction is conditioned on metric `val_acc` which is not available. Available metrics are: loss,accuracy,val_loss,val_accuracy,lr\n",
      "Epoch 12/40\n",
      "439/439 - 141s - loss: 0.0613 - accuracy: 0.9830 - val_loss: 0.0290 - val_accuracy: 0.9917\n",
      "WARNING:tensorflow:Learning rate reduction is conditioned on metric `val_acc` which is not available. Available metrics are: loss,accuracy,val_loss,val_accuracy,lr\n",
      "Epoch 13/40\n",
      "439/439 - 137s - loss: 0.0597 - accuracy: 0.9837 - val_loss: 0.0265 - val_accuracy: 0.9921\n",
      "WARNING:tensorflow:Learning rate reduction is conditioned on metric `val_acc` which is not available. Available metrics are: loss,accuracy,val_loss,val_accuracy,lr\n",
      "Epoch 14/40\n",
      "439/439 - 142s - loss: 0.0626 - accuracy: 0.9836 - val_loss: 0.0254 - val_accuracy: 0.9919\n",
      "WARNING:tensorflow:Learning rate reduction is conditioned on metric `val_acc` which is not available. Available metrics are: loss,accuracy,val_loss,val_accuracy,lr\n",
      "Epoch 15/40\n",
      "439/439 - 139s - loss: 0.0652 - accuracy: 0.9835 - val_loss: 0.0376 - val_accuracy: 0.9907\n",
      "WARNING:tensorflow:Learning rate reduction is conditioned on metric `val_acc` which is not available. Available metrics are: loss,accuracy,val_loss,val_accuracy,lr\n",
      "Epoch 16/40\n",
      "439/439 - 138s - loss: 0.0641 - accuracy: 0.9831 - val_loss: 0.0430 - val_accuracy: 0.9888\n",
      "WARNING:tensorflow:Learning rate reduction is conditioned on metric `val_acc` which is not available. Available metrics are: loss,accuracy,val_loss,val_accuracy,lr\n",
      "Epoch 17/40\n",
      "439/439 - 145s - loss: 0.0646 - accuracy: 0.9832 - val_loss: 0.0353 - val_accuracy: 0.9910\n",
      "WARNING:tensorflow:Learning rate reduction is conditioned on metric `val_acc` which is not available. Available metrics are: loss,accuracy,val_loss,val_accuracy,lr\n",
      "Epoch 18/40\n",
      "439/439 - 142s - loss: 0.0670 - accuracy: 0.9829 - val_loss: 0.0376 - val_accuracy: 0.9888\n",
      "WARNING:tensorflow:Learning rate reduction is conditioned on metric `val_acc` which is not available. Available metrics are: loss,accuracy,val_loss,val_accuracy,lr\n",
      "Epoch 19/40\n",
      "439/439 - 140s - loss: 0.0650 - accuracy: 0.9829 - val_loss: 0.0244 - val_accuracy: 0.9938\n",
      "WARNING:tensorflow:Learning rate reduction is conditioned on metric `val_acc` which is not available. Available metrics are: loss,accuracy,val_loss,val_accuracy,lr\n",
      "Epoch 20/40\n",
      "439/439 - 145s - loss: 0.0659 - accuracy: 0.9825 - val_loss: 0.0329 - val_accuracy: 0.9910\n",
      "WARNING:tensorflow:Learning rate reduction is conditioned on metric `val_acc` which is not available. Available metrics are: loss,accuracy,val_loss,val_accuracy,lr\n",
      "Epoch 21/40\n",
      "439/439 - 149s - loss: 0.0661 - accuracy: 0.9830 - val_loss: 0.0254 - val_accuracy: 0.9926\n",
      "WARNING:tensorflow:Learning rate reduction is conditioned on metric `val_acc` which is not available. Available metrics are: loss,accuracy,val_loss,val_accuracy,lr\n",
      "Epoch 22/40\n",
      "439/439 - 146s - loss: 0.0723 - accuracy: 0.9818 - val_loss: 0.0390 - val_accuracy: 0.9914\n",
      "WARNING:tensorflow:Learning rate reduction is conditioned on metric `val_acc` which is not available. Available metrics are: loss,accuracy,val_loss,val_accuracy,lr\n",
      "Epoch 23/40\n",
      "439/439 - 144s - loss: 0.0740 - accuracy: 0.9819 - val_loss: 0.0439 - val_accuracy: 0.9900\n",
      "WARNING:tensorflow:Learning rate reduction is conditioned on metric `val_acc` which is not available. Available metrics are: loss,accuracy,val_loss,val_accuracy,lr\n",
      "Epoch 24/40\n",
      "439/439 - 146s - loss: 0.0720 - accuracy: 0.9815 - val_loss: 0.0463 - val_accuracy: 0.9895\n",
      "WARNING:tensorflow:Learning rate reduction is conditioned on metric `val_acc` which is not available. Available metrics are: loss,accuracy,val_loss,val_accuracy,lr\n",
      "Epoch 25/40\n",
      "439/439 - 140s - loss: 0.0769 - accuracy: 0.9810 - val_loss: 0.0391 - val_accuracy: 0.9907\n",
      "WARNING:tensorflow:Learning rate reduction is conditioned on metric `val_acc` which is not available. Available metrics are: loss,accuracy,val_loss,val_accuracy,lr\n",
      "Epoch 26/40\n",
      "439/439 - 139s - loss: 0.0715 - accuracy: 0.9826 - val_loss: 0.0571 - val_accuracy: 0.9895\n",
      "WARNING:tensorflow:Learning rate reduction is conditioned on metric `val_acc` which is not available. Available metrics are: loss,accuracy,val_loss,val_accuracy,lr\n",
      "Epoch 27/40\n",
      "439/439 - 139s - loss: 0.0788 - accuracy: 0.9816 - val_loss: 0.0364 - val_accuracy: 0.9912\n",
      "WARNING:tensorflow:Learning rate reduction is conditioned on metric `val_acc` which is not available. Available metrics are: loss,accuracy,val_loss,val_accuracy,lr\n",
      "Epoch 28/40\n",
      "439/439 - 143s - loss: 0.0734 - accuracy: 0.9822 - val_loss: 0.0694 - val_accuracy: 0.9881\n",
      "WARNING:tensorflow:Learning rate reduction is conditioned on metric `val_acc` which is not available. Available metrics are: loss,accuracy,val_loss,val_accuracy,lr\n",
      "Epoch 29/40\n",
      "439/439 - 144s - loss: 0.0794 - accuracy: 0.9817 - val_loss: 0.1041 - val_accuracy: 0.9807\n",
      "WARNING:tensorflow:Learning rate reduction is conditioned on metric `val_acc` which is not available. Available metrics are: loss,accuracy,val_loss,val_accuracy,lr\n",
      "Epoch 30/40\n",
      "439/439 - 144s - loss: 0.0805 - accuracy: 0.9806 - val_loss: 0.0458 - val_accuracy: 0.9898\n",
      "WARNING:tensorflow:Learning rate reduction is conditioned on metric `val_acc` which is not available. Available metrics are: loss,accuracy,val_loss,val_accuracy,lr\n",
      "Epoch 31/40\n",
      "439/439 - 141s - loss: 0.0800 - accuracy: 0.9805 - val_loss: 0.0440 - val_accuracy: 0.9924\n",
      "WARNING:tensorflow:Learning rate reduction is conditioned on metric `val_acc` which is not available. Available metrics are: loss,accuracy,val_loss,val_accuracy,lr\n"
     ]
    },
    {
     "name": "stdout",
     "output_type": "stream",
     "text": [
      "Epoch 32/40\n",
      "439/439 - 142s - loss: 0.0857 - accuracy: 0.9800 - val_loss: 0.0432 - val_accuracy: 0.9886\n",
      "WARNING:tensorflow:Learning rate reduction is conditioned on metric `val_acc` which is not available. Available metrics are: loss,accuracy,val_loss,val_accuracy,lr\n",
      "Epoch 33/40\n",
      "439/439 - 141s - loss: 0.0865 - accuracy: 0.9805 - val_loss: 0.0887 - val_accuracy: 0.9867\n",
      "WARNING:tensorflow:Learning rate reduction is conditioned on metric `val_acc` which is not available. Available metrics are: loss,accuracy,val_loss,val_accuracy,lr\n",
      "Epoch 34/40\n",
      "439/439 - 144s - loss: 0.0888 - accuracy: 0.9793 - val_loss: 0.0489 - val_accuracy: 0.9907\n",
      "WARNING:tensorflow:Learning rate reduction is conditioned on metric `val_acc` which is not available. Available metrics are: loss,accuracy,val_loss,val_accuracy,lr\n",
      "Epoch 35/40\n",
      "439/439 - 137s - loss: 0.0872 - accuracy: 0.9801 - val_loss: 0.0606 - val_accuracy: 0.9902\n",
      "WARNING:tensorflow:Learning rate reduction is conditioned on metric `val_acc` which is not available. Available metrics are: loss,accuracy,val_loss,val_accuracy,lr\n",
      "Epoch 36/40\n",
      "439/439 - 138s - loss: 0.0918 - accuracy: 0.9785 - val_loss: 0.0486 - val_accuracy: 0.9890\n",
      "WARNING:tensorflow:Learning rate reduction is conditioned on metric `val_acc` which is not available. Available metrics are: loss,accuracy,val_loss,val_accuracy,lr\n",
      "Epoch 37/40\n",
      "439/439 - 151s - loss: 0.0904 - accuracy: 0.9790 - val_loss: 0.0593 - val_accuracy: 0.9895\n",
      "WARNING:tensorflow:Learning rate reduction is conditioned on metric `val_acc` which is not available. Available metrics are: loss,accuracy,val_loss,val_accuracy,lr\n",
      "Epoch 38/40\n",
      "439/439 - 144s - loss: 0.0914 - accuracy: 0.9791 - val_loss: 0.0758 - val_accuracy: 0.9924\n",
      "WARNING:tensorflow:Learning rate reduction is conditioned on metric `val_acc` which is not available. Available metrics are: loss,accuracy,val_loss,val_accuracy,lr\n",
      "Epoch 39/40\n",
      "439/439 - 143s - loss: 0.0916 - accuracy: 0.9789 - val_loss: 0.0410 - val_accuracy: 0.9912\n",
      "WARNING:tensorflow:Learning rate reduction is conditioned on metric `val_acc` which is not available. Available metrics are: loss,accuracy,val_loss,val_accuracy,lr\n",
      "Epoch 40/40\n",
      "439/439 - 216s - loss: 0.0913 - accuracy: 0.9784 - val_loss: 0.0848 - val_accuracy: 0.9862\n",
      "WARNING:tensorflow:Learning rate reduction is conditioned on metric `val_acc` which is not available. Available metrics are: loss,accuracy,val_loss,val_accuracy,lr\n"
     ]
    }
   ],
   "source": [
    "history = model.fit_generator(generator.flow(x_train,y_train,batch_size=batch_size),\n",
    "    epochs=epochs,\n",
    "    validation_data=(x_val,y_val),\n",
    "    verbose=2,\n",
    "    steps_per_epoch=x_train.shape[0] // batch_size,\n",
    "    callbacks=[lr_reduction],\n",
    "    )"
   ]
  },
  {
   "cell_type": "code",
   "execution_count": 68,
   "metadata": {},
   "outputs": [
    {
     "data": {
      "text/plain": [
       "<matplotlib.legend.Legend at 0x1d6abafe910>"
      ]
     },
     "execution_count": 68,
     "metadata": {},
     "output_type": "execute_result"
    },
    {
     "data": {
      "image/png": "[encoded data removed]",
      "text/plain": [
       "<Figure size 432x288 with 2 Axes>"
      ]
     },
     "metadata": {
      "needs_background": "light"
     },
     "output_type": "display_data"
    }
   ],
   "source": [
    "fig, ax = plt.subplots(2,1)\n",
    "ax[0].plot(history.history['loss'],label='Training Loss')\n",
    "ax[0].plot(history.history['val_loss'],label='Validation Loss')\n",
    "ax[0].legend(loc='best')\n",
    "\n",
    "ax[1].plot(history.history['accuracy'],label='Training Accuracy')\n",
    "ax[1].plot(history.history['val_accuracy'],label='Validation Accuracy')\n",
    "ax[1].legend(loc='best')"
   ]
  },
  {
   "cell_type": "code",
   "execution_count": 70,
   "metadata": {},
   "outputs": [],
   "source": [
    "y_pred = model.predict(test)\n",
    "y_pred = np.argmax(y_pred,axis=1)\n",
    "y_pred = pd.Series(name='Label',data=y_pred)"
   ]
  },
  {
   "cell_type": "code",
   "execution_count": 71,
   "metadata": {},
   "outputs": [],
   "source": [
    "submission = pd.concat([pd.Series(name='ImageId',data=range(1,28001)),y_pred], axis=1 )"
   ]
  },
  {
   "cell_type": "code",
   "execution_count": 72,
   "metadata": {},
   "outputs": [],
   "source": [
    "submission.to_csv('submission_epoch40.csv',index=False)"
   ]
  },
  {
   "cell_type": "code",
   "execution_count": null,
   "metadata": {},
   "outputs": [],
   "source": []
  }
 ],
 "metadata": {
  "kernelspec": {
   "display_name": "Python 3",
   "language": "python",
   "name": "python3"
  },
  "language_info": {
   "codemirror_mode": {
    "name": "ipython",
    "version": 3
   },
   "file_extension": ".py",
   "mimetype": "text/x-python",
   "name": "python",
   "nbconvert_exporter": "python",
   "pygments_lexer": "ipython3",
   "version": "3.8.5"
  },
  "toc": {
   "base_numbering": 1,
   "nav_menu": {},
   "number_sections": true,
   "sideBar": true,
   "skip_h1_title": false,
   "title_cell": "Table of Contents",
   "title_sidebar": "Contents",
   "toc_cell": false,
   "toc_position": {},
   "toc_section_display": true,
   "toc_window_display": false
  }
 },
 "nbformat": 4,
 "nbformat_minor": 4
}
